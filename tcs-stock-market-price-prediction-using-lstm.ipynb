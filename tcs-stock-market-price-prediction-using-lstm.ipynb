{
 "cells": [
  {
   "cell_type": "code",
   "execution_count": 1,
   "metadata": {
    "_cell_guid": "b1076dfc-b9ad-4769-8c92-a6c4dae69d19",
    "_uuid": "8f2839f25d086af736a60e9eeb907d3b93b6e0e5",
    "execution": {
     "iopub.execute_input": "2023-12-08T06:08:28.092355Z",
     "iopub.status.busy": "2023-12-08T06:08:28.091990Z",
     "iopub.status.idle": "2023-12-08T06:08:28.474931Z",
     "shell.execute_reply": "2023-12-08T06:08:28.473850Z",
     "shell.execute_reply.started": "2023-12-08T06:08:28.092325Z"
    }
   },
   "outputs": [],
   "source": [
    "import numpy as np\n",
    "import pandas as pd\n",
    "import matplotlib.pyplot as plt"
   ]
  },
  {
   "cell_type": "code",
   "execution_count": 2,
   "metadata": {
    "execution": {
     "iopub.execute_input": "2023-12-08T06:08:28.477288Z",
     "iopub.status.busy": "2023-12-08T06:08:28.476711Z",
     "iopub.status.idle": "2023-12-08T06:08:28.511371Z",
     "shell.execute_reply": "2023-12-08T06:08:28.510056Z",
     "shell.execute_reply.started": "2023-12-08T06:08:28.477253Z"
    }
   },
   "outputs": [
    {
     "data": {
      "text/html": [
       "<div>\n",
       "<style scoped>\n",
       "    .dataframe tbody tr th:only-of-type {\n",
       "        vertical-align: middle;\n",
       "    }\n",
       "\n",
       "    .dataframe tbody tr th {\n",
       "        vertical-align: top;\n",
       "    }\n",
       "\n",
       "    .dataframe thead th {\n",
       "        text-align: right;\n",
       "    }\n",
       "</style>\n",
       "<table border=\"1\" class=\"dataframe\">\n",
       "  <thead>\n",
       "    <tr style=\"text-align: right;\">\n",
       "      <th></th>\n",
       "      <th>Date</th>\n",
       "      <th>Open</th>\n",
       "      <th>High</th>\n",
       "      <th>Low</th>\n",
       "      <th>Close</th>\n",
       "      <th>Adj Close</th>\n",
       "      <th>Volume</th>\n",
       "    </tr>\n",
       "  </thead>\n",
       "  <tbody>\n",
       "    <tr>\n",
       "      <th>0</th>\n",
       "      <td>2004-08-27</td>\n",
       "      <td>122.800003</td>\n",
       "      <td>122.800003</td>\n",
       "      <td>119.820000</td>\n",
       "      <td>120.332497</td>\n",
       "      <td>88.088272</td>\n",
       "      <td>30646000.0</td>\n",
       "    </tr>\n",
       "    <tr>\n",
       "      <th>1</th>\n",
       "      <td>2004-08-30</td>\n",
       "      <td>121.237503</td>\n",
       "      <td>123.750000</td>\n",
       "      <td>120.625000</td>\n",
       "      <td>123.345001</td>\n",
       "      <td>90.293549</td>\n",
       "      <td>24465208.0</td>\n",
       "    </tr>\n",
       "    <tr>\n",
       "      <th>2</th>\n",
       "      <td>2004-08-31</td>\n",
       "      <td>123.312500</td>\n",
       "      <td>123.750000</td>\n",
       "      <td>122.000000</td>\n",
       "      <td>123.512497</td>\n",
       "      <td>90.416122</td>\n",
       "      <td>21194656.0</td>\n",
       "    </tr>\n",
       "    <tr>\n",
       "      <th>3</th>\n",
       "      <td>2004-09-01</td>\n",
       "      <td>123.750000</td>\n",
       "      <td>124.375000</td>\n",
       "      <td>122.949997</td>\n",
       "      <td>123.487503</td>\n",
       "      <td>90.397820</td>\n",
       "      <td>19935544.0</td>\n",
       "    </tr>\n",
       "    <tr>\n",
       "      <th>4</th>\n",
       "      <td>2004-09-02</td>\n",
       "      <td>123.737503</td>\n",
       "      <td>125.574997</td>\n",
       "      <td>123.250000</td>\n",
       "      <td>124.207497</td>\n",
       "      <td>90.924896</td>\n",
       "      <td>21356352.0</td>\n",
       "    </tr>\n",
       "  </tbody>\n",
       "</table>\n",
       "</div>"
      ],
      "text/plain": [
       "         Date        Open        High         Low       Close  Adj Close  \\\n",
       "0  2004-08-27  122.800003  122.800003  119.820000  120.332497  88.088272   \n",
       "1  2004-08-30  121.237503  123.750000  120.625000  123.345001  90.293549   \n",
       "2  2004-08-31  123.312500  123.750000  122.000000  123.512497  90.416122   \n",
       "3  2004-09-01  123.750000  124.375000  122.949997  123.487503  90.397820   \n",
       "4  2004-09-02  123.737503  125.574997  123.250000  124.207497  90.924896   \n",
       "\n",
       "       Volume  \n",
       "0  30646000.0  \n",
       "1  24465208.0  \n",
       "2  21194656.0  \n",
       "3  19935544.0  \n",
       "4  21356352.0  "
      ]
     },
     "execution_count": 2,
     "metadata": {},
     "output_type": "execute_result"
    }
   ],
   "source": [
    "df = pd.read_csv(\"tcs.CSV\")\n",
    "df.head()"
   ]
  },
  {
   "cell_type": "code",
   "execution_count": 3,
   "metadata": {
    "execution": {
     "iopub.execute_input": "2023-12-08T06:08:28.513698Z",
     "iopub.status.busy": "2023-12-08T06:08:28.513251Z",
     "iopub.status.idle": "2023-12-08T06:08:28.531035Z",
     "shell.execute_reply": "2023-12-08T06:08:28.529447Z",
     "shell.execute_reply.started": "2023-12-08T06:08:28.513654Z"
    }
   },
   "outputs": [
    {
     "name": "stdout",
     "output_type": "stream",
     "text": [
      "<class 'pandas.core.frame.DataFrame'>\n",
      "RangeIndex: 4494 entries, 0 to 4493\n",
      "Data columns (total 7 columns):\n",
      " #   Column     Non-Null Count  Dtype  \n",
      "---  ------     --------------  -----  \n",
      " 0   Date       4494 non-null   object \n",
      " 1   Open       4486 non-null   float64\n",
      " 2   High       4486 non-null   float64\n",
      " 3   Low        4486 non-null   float64\n",
      " 4   Close      4486 non-null   float64\n",
      " 5   Adj Close  4486 non-null   float64\n",
      " 6   Volume     4486 non-null   float64\n",
      "dtypes: float64(6), object(1)\n",
      "memory usage: 245.9+ KB\n"
     ]
    }
   ],
   "source": [
    "df.info()"
   ]
  },
  {
   "cell_type": "code",
   "execution_count": 4,
   "metadata": {
    "execution": {
     "iopub.execute_input": "2023-12-08T06:08:28.534422Z",
     "iopub.status.busy": "2023-12-08T06:08:28.533504Z",
     "iopub.status.idle": "2023-12-08T06:08:28.555750Z",
     "shell.execute_reply": "2023-12-08T06:08:28.554506Z",
     "shell.execute_reply.started": "2023-12-08T06:08:28.534373Z"
    }
   },
   "outputs": [
    {
     "name": "stdout",
     "output_type": "stream",
     "text": [
      "<class 'pandas.core.frame.DataFrame'>\n",
      "RangeIndex: 4494 entries, 0 to 4493\n",
      "Data columns (total 7 columns):\n",
      " #   Column     Non-Null Count  Dtype         \n",
      "---  ------     --------------  -----         \n",
      " 0   Date       4494 non-null   datetime64[ns]\n",
      " 1   Open       4486 non-null   float64       \n",
      " 2   High       4486 non-null   float64       \n",
      " 3   Low        4486 non-null   float64       \n",
      " 4   Close      4486 non-null   float64       \n",
      " 5   Adj Close  4486 non-null   float64       \n",
      " 6   Volume     4486 non-null   float64       \n",
      "dtypes: datetime64[ns](1), float64(6)\n",
      "memory usage: 245.9 KB\n"
     ]
    }
   ],
   "source": [
    "df['Date'] = pd.to_datetime(df['Date'])\n",
    "df.info()"
   ]
  },
  {
   "cell_type": "code",
   "execution_count": 5,
   "metadata": {
    "execution": {
     "iopub.execute_input": "2023-12-08T06:08:28.557619Z",
     "iopub.status.busy": "2023-12-08T06:08:28.556903Z",
     "iopub.status.idle": "2023-12-08T06:08:28.575570Z",
     "shell.execute_reply": "2023-12-08T06:08:28.574440Z",
     "shell.execute_reply.started": "2023-12-08T06:08:28.557575Z"
    }
   },
   "outputs": [
    {
     "data": {
      "text/html": [
       "<div>\n",
       "<style scoped>\n",
       "    .dataframe tbody tr th:only-of-type {\n",
       "        vertical-align: middle;\n",
       "    }\n",
       "\n",
       "    .dataframe tbody tr th {\n",
       "        vertical-align: top;\n",
       "    }\n",
       "\n",
       "    .dataframe thead th {\n",
       "        text-align: right;\n",
       "    }\n",
       "</style>\n",
       "<table border=\"1\" class=\"dataframe\">\n",
       "  <thead>\n",
       "    <tr style=\"text-align: right;\">\n",
       "      <th></th>\n",
       "      <th>Date</th>\n",
       "      <th>Open</th>\n",
       "      <th>High</th>\n",
       "      <th>Low</th>\n",
       "      <th>Close</th>\n",
       "      <th>Adj Close</th>\n",
       "      <th>Volume</th>\n",
       "    </tr>\n",
       "  </thead>\n",
       "  <tbody>\n",
       "    <tr>\n",
       "      <th>4489</th>\n",
       "      <td>2022-10-18</td>\n",
       "      <td>3150.000000</td>\n",
       "      <td>3155.350098</td>\n",
       "      <td>3128.550049</td>\n",
       "      <td>3144.699951</td>\n",
       "      <td>3144.699951</td>\n",
       "      <td>1793722.0</td>\n",
       "    </tr>\n",
       "    <tr>\n",
       "      <th>4490</th>\n",
       "      <td>2022-10-19</td>\n",
       "      <td>3159.000000</td>\n",
       "      <td>3159.000000</td>\n",
       "      <td>3112.000000</td>\n",
       "      <td>3121.850098</td>\n",
       "      <td>3121.850098</td>\n",
       "      <td>1194289.0</td>\n",
       "    </tr>\n",
       "    <tr>\n",
       "      <th>4491</th>\n",
       "      <td>2022-10-20</td>\n",
       "      <td>3105.000000</td>\n",
       "      <td>3160.000000</td>\n",
       "      <td>3105.000000</td>\n",
       "      <td>3157.300049</td>\n",
       "      <td>3157.300049</td>\n",
       "      <td>1587601.0</td>\n",
       "    </tr>\n",
       "    <tr>\n",
       "      <th>4492</th>\n",
       "      <td>2022-10-21</td>\n",
       "      <td>3157.800049</td>\n",
       "      <td>3160.399902</td>\n",
       "      <td>3127.000000</td>\n",
       "      <td>3137.399902</td>\n",
       "      <td>3137.399902</td>\n",
       "      <td>1021913.0</td>\n",
       "    </tr>\n",
       "    <tr>\n",
       "      <th>4493</th>\n",
       "      <td>2022-10-24</td>\n",
       "      <td>3170.100098</td>\n",
       "      <td>3178.000000</td>\n",
       "      <td>3155.000000</td>\n",
       "      <td>3161.699951</td>\n",
       "      <td>3161.699951</td>\n",
       "      <td>260949.0</td>\n",
       "    </tr>\n",
       "  </tbody>\n",
       "</table>\n",
       "</div>"
      ],
      "text/plain": [
       "           Date         Open         High          Low        Close  \\\n",
       "4489 2022-10-18  3150.000000  3155.350098  3128.550049  3144.699951   \n",
       "4490 2022-10-19  3159.000000  3159.000000  3112.000000  3121.850098   \n",
       "4491 2022-10-20  3105.000000  3160.000000  3105.000000  3157.300049   \n",
       "4492 2022-10-21  3157.800049  3160.399902  3127.000000  3137.399902   \n",
       "4493 2022-10-24  3170.100098  3178.000000  3155.000000  3161.699951   \n",
       "\n",
       "        Adj Close     Volume  \n",
       "4489  3144.699951  1793722.0  \n",
       "4490  3121.850098  1194289.0  \n",
       "4491  3157.300049  1587601.0  \n",
       "4492  3137.399902  1021913.0  \n",
       "4493  3161.699951   260949.0  "
      ]
     },
     "execution_count": 5,
     "metadata": {},
     "output_type": "execute_result"
    }
   ],
   "source": [
    "df.tail()"
   ]
  },
  {
   "cell_type": "code",
   "execution_count": 6,
   "metadata": {
    "execution": {
     "iopub.execute_input": "2023-12-08T06:08:28.576984Z",
     "iopub.status.busy": "2023-12-08T06:08:28.576673Z",
     "iopub.status.idle": "2023-12-08T06:08:28.590100Z",
     "shell.execute_reply": "2023-12-08T06:08:28.588961Z",
     "shell.execute_reply.started": "2023-12-08T06:08:28.576955Z"
    }
   },
   "outputs": [
    {
     "data": {
      "text/plain": [
       "Date         0\n",
       "Open         8\n",
       "High         8\n",
       "Low          8\n",
       "Close        8\n",
       "Adj Close    8\n",
       "Volume       8\n",
       "dtype: int64"
      ]
     },
     "execution_count": 6,
     "metadata": {},
     "output_type": "execute_result"
    }
   ],
   "source": [
    "df.isnull().sum()"
   ]
  },
  {
   "cell_type": "code",
   "execution_count": 7,
   "metadata": {
    "execution": {
     "iopub.execute_input": "2023-12-08T06:08:28.592327Z",
     "iopub.status.busy": "2023-12-08T06:08:28.591428Z",
     "iopub.status.idle": "2023-12-08T06:08:28.603379Z",
     "shell.execute_reply": "2023-12-08T06:08:28.602184Z",
     "shell.execute_reply.started": "2023-12-08T06:08:28.592290Z"
    }
   },
   "outputs": [],
   "source": [
    "df.dropna(inplace=True)"
   ]
  },
  {
   "cell_type": "code",
   "execution_count": 8,
   "metadata": {
    "execution": {
     "iopub.execute_input": "2023-12-08T06:08:28.605320Z",
     "iopub.status.busy": "2023-12-08T06:08:28.604727Z",
     "iopub.status.idle": "2023-12-08T06:08:28.615536Z",
     "shell.execute_reply": "2023-12-08T06:08:28.614570Z",
     "shell.execute_reply.started": "2023-12-08T06:08:28.605287Z"
    }
   },
   "outputs": [
    {
     "data": {
      "text/plain": [
       "Date         0\n",
       "Open         0\n",
       "High         0\n",
       "Low          0\n",
       "Close        0\n",
       "Adj Close    0\n",
       "Volume       0\n",
       "dtype: int64"
      ]
     },
     "execution_count": 8,
     "metadata": {},
     "output_type": "execute_result"
    }
   ],
   "source": [
    "df.isnull().sum()"
   ]
  },
  {
   "cell_type": "code",
   "execution_count": 9,
   "metadata": {
    "execution": {
     "iopub.execute_input": "2023-12-08T06:08:28.617310Z",
     "iopub.status.busy": "2023-12-08T06:08:28.616642Z",
     "iopub.status.idle": "2023-12-08T06:08:28.631060Z",
     "shell.execute_reply": "2023-12-08T06:08:28.630259Z",
     "shell.execute_reply.started": "2023-12-08T06:08:28.617268Z"
    }
   },
   "outputs": [
    {
     "data": {
      "text/plain": [
       "0        120.332497\n",
       "1        123.345001\n",
       "2        123.512497\n",
       "3        123.487503\n",
       "4        124.207497\n",
       "           ...     \n",
       "4481    3144.699951\n",
       "4482    3121.850098\n",
       "4483    3157.300049\n",
       "4484    3137.399902\n",
       "4485    3161.699951\n",
       "Name: Close, Length: 4486, dtype: float64"
      ]
     },
     "execution_count": 9,
     "metadata": {},
     "output_type": "execute_result"
    }
   ],
   "source": [
    "df1=df.reset_index()['Close']\n",
    "df1"
   ]
  },
  {
   "cell_type": "code",
   "execution_count": 10,
   "metadata": {
    "execution": {
     "iopub.execute_input": "2023-12-08T06:08:28.635384Z",
     "iopub.status.busy": "2023-12-08T06:08:28.634597Z",
     "iopub.status.idle": "2023-12-08T06:08:28.826961Z",
     "shell.execute_reply": "2023-12-08T06:08:28.825883Z",
     "shell.execute_reply.started": "2023-12-08T06:08:28.635344Z"
    }
   },
   "outputs": [
    {
     "data": {
      "image/png": "[encoded data removed]",
      "text/plain": [
       "<Figure size 640x480 with 1 Axes>"
      ]
     },
     "metadata": {},
     "output_type": "display_data"
    }
   ],
   "source": [
    "plt.plot(df1)\n",
    "plt.show()"
   ]
  },
  {
   "cell_type": "code",
   "execution_count": 11,
   "metadata": {
    "execution": {
     "iopub.execute_input": "2023-12-08T06:08:28.829074Z",
     "iopub.status.busy": "2023-12-08T06:08:28.828691Z",
     "iopub.status.idle": "2023-12-08T06:08:28.836979Z",
     "shell.execute_reply": "2023-12-08T06:08:28.835713Z",
     "shell.execute_reply.started": "2023-12-08T06:08:28.829005Z"
    }
   },
   "outputs": [
    {
     "data": {
      "text/plain": [
       "array([[ 120.332497],\n",
       "       [ 123.345001],\n",
       "       [ 123.512497],\n",
       "       ...,\n",
       "       [3157.300049],\n",
       "       [3137.399902],\n",
       "       [3161.699951]])"
      ]
     },
     "execution_count": 11,
     "metadata": {},
     "output_type": "execute_result"
    }
   ],
   "source": [
    "np.array(df1).reshape(-1,1)"
   ]
  },
  {
   "cell_type": "code",
   "execution_count": 12,
   "metadata": {
    "execution": {
     "iopub.execute_input": "2023-12-08T06:08:28.839662Z",
     "iopub.status.busy": "2023-12-08T06:08:28.839238Z",
     "iopub.status.idle": "2023-12-08T06:08:29.299396Z",
     "shell.execute_reply": "2023-12-08T06:08:29.298252Z",
     "shell.execute_reply.started": "2023-12-08T06:08:28.839623Z"
    }
   },
   "outputs": [],
   "source": [
    "from sklearn.preprocessing import MinMaxScaler\n",
    "scaler=MinMaxScaler()\n",
    "df1=scaler.fit_transform(np.array(df1).reshape(-1,1))"
   ]
  },
  {
   "cell_type": "code",
   "execution_count": 13,
   "metadata": {
    "execution": {
     "iopub.execute_input": "2023-12-08T06:08:29.300942Z",
     "iopub.status.busy": "2023-12-08T06:08:29.300643Z",
     "iopub.status.idle": "2023-12-08T06:08:29.307924Z",
     "shell.execute_reply": "2023-12-08T06:08:29.307037Z",
     "shell.execute_reply.started": "2023-12-08T06:08:29.300917Z"
    }
   },
   "outputs": [
    {
     "data": {
      "text/plain": [
       "array([[0.00224754],\n",
       "       [0.00301848],\n",
       "       [0.00306134],\n",
       "       ...,\n",
       "       [0.77944266],\n",
       "       [0.77434998],\n",
       "       [0.78056864]])"
      ]
     },
     "execution_count": 13,
     "metadata": {},
     "output_type": "execute_result"
    }
   ],
   "source": [
    "df1"
   ]
  },
  {
   "cell_type": "code",
   "execution_count": 14,
   "metadata": {
    "execution": {
     "iopub.execute_input": "2023-12-08T06:08:29.309466Z",
     "iopub.status.busy": "2023-12-08T06:08:29.309164Z",
     "iopub.status.idle": "2023-12-08T06:08:29.320376Z",
     "shell.execute_reply": "2023-12-08T06:08:29.319060Z",
     "shell.execute_reply.started": "2023-12-08T06:08:29.309440Z"
    }
   },
   "outputs": [],
   "source": [
    "# splitting dataset into train and test split\n",
    "training_size=int(len(df1)*0.75)\n",
    "test_size=len(df1)-training_size\n",
    "train_data,test_data=df1[0:training_size,:],df1[training_size:len(df1),:1]"
   ]
  },
  {
   "cell_type": "code",
   "execution_count": 15,
   "metadata": {
    "execution": {
     "iopub.execute_input": "2023-12-08T06:08:29.322218Z",
     "iopub.status.busy": "2023-12-08T06:08:29.321854Z",
     "iopub.status.idle": "2023-12-08T06:08:29.338978Z",
     "shell.execute_reply": "2023-12-08T06:08:29.338231Z",
     "shell.execute_reply.started": "2023-12-08T06:08:29.322180Z"
    }
   },
   "outputs": [
    {
     "data": {
      "text/plain": [
       "(3364, 1122)"
      ]
     },
     "execution_count": 15,
     "metadata": {},
     "output_type": "execute_result"
    }
   ],
   "source": [
    "training_size,test_size"
   ]
  },
  {
   "cell_type": "code",
   "execution_count": 16,
   "metadata": {
    "execution": {
     "iopub.execute_input": "2023-12-08T06:08:29.340261Z",
     "iopub.status.busy": "2023-12-08T06:08:29.339886Z",
     "iopub.status.idle": "2023-12-08T06:08:29.352737Z",
     "shell.execute_reply": "2023-12-08T06:08:29.351914Z",
     "shell.execute_reply.started": "2023-12-08T06:08:29.340231Z"
    }
   },
   "outputs": [
    {
     "data": {
      "text/plain": [
       "array([[0.00224754],\n",
       "       [0.00301848],\n",
       "       [0.00306134],\n",
       "       ...,\n",
       "       [0.34896101],\n",
       "       [0.34558296],\n",
       "       [0.34733598]])"
      ]
     },
     "execution_count": 16,
     "metadata": {},
     "output_type": "execute_result"
    }
   ],
   "source": [
    "train_data"
   ]
  },
  {
   "cell_type": "code",
   "execution_count": 17,
   "metadata": {
    "execution": {
     "iopub.execute_input": "2023-12-08T06:08:29.353922Z",
     "iopub.status.busy": "2023-12-08T06:08:29.353622Z",
     "iopub.status.idle": "2023-12-08T06:08:29.364726Z",
     "shell.execute_reply": "2023-12-08T06:08:29.363143Z",
     "shell.execute_reply.started": "2023-12-08T06:08:29.353896Z"
    }
   },
   "outputs": [],
   "source": [
    "# convert an array of values into a dataset matrix\n",
    "def create_dataset(dataset, time_step=1):\n",
    "    dataX, dataY = [], []\n",
    "    for i in range(len(dataset)-time_step-1):\n",
    "        a = dataset[i:(i+time_step), 0]\n",
    "        dataX.append(a)\n",
    "        dataY.append(dataset[i + time_step, 0])\n",
    "    return np.array(dataX), np.array(dataY)"
   ]
  },
  {
   "cell_type": "code",
   "execution_count": 18,
   "metadata": {
    "execution": {
     "iopub.execute_input": "2023-12-08T06:08:29.366497Z",
     "iopub.status.busy": "2023-12-08T06:08:29.365745Z",
     "iopub.status.idle": "2023-12-08T06:08:29.387121Z",
     "shell.execute_reply": "2023-12-08T06:08:29.385812Z",
     "shell.execute_reply.started": "2023-12-08T06:08:29.366455Z"
    }
   },
   "outputs": [],
   "source": [
    "# reshape into X=t,t+1,t+2,t+3 and Y=t+4\n",
    "time_step = 200\n",
    "X_train, y_train = create_dataset(train_data, time_step)\n",
    "X_test, y_test = create_dataset(test_data, time_step)"
   ]
  },
  {
   "cell_type": "code",
   "execution_count": 19,
   "metadata": {
    "execution": {
     "iopub.execute_input": "2023-12-08T06:08:29.388909Z",
     "iopub.status.busy": "2023-12-08T06:08:29.388588Z",
     "iopub.status.idle": "2023-12-08T06:08:29.398612Z",
     "shell.execute_reply": "2023-12-08T06:08:29.397377Z",
     "shell.execute_reply.started": "2023-12-08T06:08:29.388881Z"
    }
   },
   "outputs": [
    {
     "data": {
      "text/plain": [
       "array([[0.00224754, 0.00301848, 0.00306134, ..., 0.01232406, 0.01278598,\n",
       "        0.01231255],\n",
       "       [0.00301848, 0.00306134, 0.00305494, ..., 0.01278598, 0.01231255,\n",
       "        0.01195619],\n",
       "       [0.00306134, 0.00305494, 0.0032392 , ..., 0.01231255, 0.01195619,\n",
       "        0.01213213],\n",
       "       ...,\n",
       "       [0.28752943, 0.27998004, 0.27850855, ..., 0.34375959, 0.34396433,\n",
       "        0.34391954],\n",
       "       [0.27998004, 0.27850855, 0.28260313, ..., 0.34396433, 0.34391954,\n",
       "        0.34993986],\n",
       "       [0.27850855, 0.28260313, 0.28430495, ..., 0.34391954, 0.34993986,\n",
       "        0.34896101]])"
      ]
     },
     "execution_count": 19,
     "metadata": {},
     "output_type": "execute_result"
    }
   ],
   "source": [
    "X_train"
   ]
  },
  {
   "cell_type": "code",
   "execution_count": 20,
   "metadata": {
    "execution": {
     "iopub.execute_input": "2023-12-08T06:08:29.400943Z",
     "iopub.status.busy": "2023-12-08T06:08:29.400143Z",
     "iopub.status.idle": "2023-12-08T06:08:29.409587Z",
     "shell.execute_reply": "2023-12-08T06:08:29.408468Z",
     "shell.execute_reply.started": "2023-12-08T06:08:29.400900Z"
    }
   },
   "outputs": [
    {
     "data": {
      "text/plain": [
       "array([0.01195619, 0.01213213, 0.01195299, ..., 0.34993986, 0.34896101,\n",
       "       0.34558296])"
      ]
     },
     "execution_count": 20,
     "metadata": {},
     "output_type": "execute_result"
    }
   ],
   "source": [
    "y_train"
   ]
  },
  {
   "cell_type": "code",
   "execution_count": 21,
   "metadata": {
    "execution": {
     "iopub.execute_input": "2023-12-08T06:08:29.411773Z",
     "iopub.status.busy": "2023-12-08T06:08:29.411203Z",
     "iopub.status.idle": "2023-12-08T06:08:29.423039Z",
     "shell.execute_reply": "2023-12-08T06:08:29.422169Z",
     "shell.execute_reply.started": "2023-12-08T06:08:29.411738Z"
    }
   },
   "outputs": [
    {
     "name": "stdout",
     "output_type": "stream",
     "text": [
      "(3163, 200)\n",
      "(3163,)\n"
     ]
    },
    {
     "data": {
      "text/plain": [
       "(None, None)"
      ]
     },
     "execution_count": 21,
     "metadata": {},
     "output_type": "execute_result"
    }
   ],
   "source": [
    "print(X_train.shape), print(y_train.shape)"
   ]
  },
  {
   "cell_type": "code",
   "execution_count": 22,
   "metadata": {
    "execution": {
     "iopub.execute_input": "2023-12-08T06:08:29.425453Z",
     "iopub.status.busy": "2023-12-08T06:08:29.424256Z",
     "iopub.status.idle": "2023-12-08T06:08:29.433928Z",
     "shell.execute_reply": "2023-12-08T06:08:29.432814Z",
     "shell.execute_reply.started": "2023-12-08T06:08:29.425402Z"
    }
   },
   "outputs": [
    {
     "name": "stdout",
     "output_type": "stream",
     "text": [
      "(921, 200)\n",
      "(921,)\n"
     ]
    },
    {
     "data": {
      "text/plain": [
       "(None, None)"
      ]
     },
     "execution_count": 22,
     "metadata": {},
     "output_type": "execute_result"
    }
   ],
   "source": [
    "print(X_test.shape), print(y_test.shape)"
   ]
  },
  {
   "cell_type": "code",
   "execution_count": 23,
   "metadata": {
    "execution": {
     "iopub.execute_input": "2023-12-08T06:08:29.436194Z",
     "iopub.status.busy": "2023-12-08T06:08:29.435481Z",
     "iopub.status.idle": "2023-12-08T06:08:29.443495Z",
     "shell.execute_reply": "2023-12-08T06:08:29.441915Z",
     "shell.execute_reply.started": "2023-12-08T06:08:29.436162Z"
    }
   },
   "outputs": [],
   "source": [
    "# reshape input to be [samples, time steps, features] which is required for LSTM\n",
    "X_train =X_train.reshape(X_train.shape[0],X_train.shape[1] , 1)\n",
    "X_test = X_test.reshape(X_test.shape[0],X_test.shape[1] , 1)"
   ]
  },
  {
   "cell_type": "code",
   "execution_count": 24,
   "metadata": {
    "execution": {
     "iopub.execute_input": "2023-12-08T06:08:29.445494Z",
     "iopub.status.busy": "2023-12-08T06:08:29.445161Z",
     "iopub.status.idle": "2023-12-08T06:08:29.459114Z",
     "shell.execute_reply": "2023-12-08T06:08:29.457974Z",
     "shell.execute_reply.started": "2023-12-08T06:08:29.445465Z"
    }
   },
   "outputs": [
    {
     "name": "stdout",
     "output_type": "stream",
     "text": [
      "(3163, 200, 1)\n",
      "(3163,)\n"
     ]
    },
    {
     "data": {
      "text/plain": [
       "(None, None)"
      ]
     },
     "execution_count": 24,
     "metadata": {},
     "output_type": "execute_result"
    }
   ],
   "source": [
    "print(X_train.shape), print(y_train.shape)"
   ]
  },
  {
   "cell_type": "code",
   "execution_count": 25,
   "metadata": {
    "execution": {
     "iopub.execute_input": "2023-12-08T06:08:29.461525Z",
     "iopub.status.busy": "2023-12-08T06:08:29.461094Z",
     "iopub.status.idle": "2023-12-08T06:08:29.470837Z",
     "shell.execute_reply": "2023-12-08T06:08:29.469726Z",
     "shell.execute_reply.started": "2023-12-08T06:08:29.461485Z"
    }
   },
   "outputs": [
    {
     "name": "stdout",
     "output_type": "stream",
     "text": [
      "(921, 200, 1)\n",
      "(921,)\n"
     ]
    },
    {
     "data": {
      "text/plain": [
       "(None, None)"
      ]
     },
     "execution_count": 25,
     "metadata": {},
     "output_type": "execute_result"
    }
   ],
   "source": [
    "print(X_test.shape), print(y_test.shape)"
   ]
  },
  {
   "cell_type": "code",
   "execution_count": 26,
   "metadata": {
    "execution": {
     "iopub.execute_input": "2023-12-08T06:08:29.472673Z",
     "iopub.status.busy": "2023-12-08T06:08:29.472227Z",
     "iopub.status.idle": "2023-12-08T06:08:29.482670Z",
     "shell.execute_reply": "2023-12-08T06:08:29.481856Z",
     "shell.execute_reply.started": "2023-12-08T06:08:29.472637Z"
    }
   },
   "outputs": [
    {
     "data": {
      "text/plain": [
       "(200, 1)"
      ]
     },
     "execution_count": 26,
     "metadata": {},
     "output_type": "execute_result"
    }
   ],
   "source": [
    "X_train[0].shape"
   ]
  },
  {
   "cell_type": "code",
   "execution_count": 27,
   "metadata": {
    "execution": {
     "iopub.execute_input": "2023-12-08T06:08:29.485755Z",
     "iopub.status.busy": "2023-12-08T06:08:29.485286Z",
     "iopub.status.idle": "2023-12-08T06:08:32.909735Z",
     "shell.execute_reply": "2023-12-08T06:08:32.908524Z",
     "shell.execute_reply.started": "2023-12-08T06:08:29.485715Z"
    }
   },
   "outputs": [],
   "source": [
    "### Create the Stacked LSTM model\n",
    "import tensorflow as tf\n",
    "from tensorflow.keras.models import Sequential\n",
    "from tensorflow.keras.layers import Dense\n",
    "from tensorflow.keras.layers import LSTM"
   ]
  },
  {
   "cell_type": "code",
   "execution_count": 28,
   "metadata": {
    "execution": {
     "iopub.execute_input": "2023-12-08T06:08:32.916244Z",
     "iopub.status.busy": "2023-12-08T06:08:32.915447Z",
     "iopub.status.idle": "2023-12-08T06:08:34.100957Z",
     "shell.execute_reply": "2023-12-08T06:08:34.100055Z",
     "shell.execute_reply.started": "2023-12-08T06:08:32.916203Z"
    }
   },
   "outputs": [],
   "source": [
    "model=Sequential()\n",
    "model.add(LSTM(50,return_sequences=True,input_shape=(time_step,1)))\n",
    "model.add(LSTM(50,return_sequences=True))\n",
    "model.add(LSTM(50))\n",
    "model.add(Dense(1))\n",
    "model.compile(loss='mean_squared_error',optimizer='adam')"
   ]
  },
  {
   "cell_type": "code",
   "execution_count": 29,
   "metadata": {
    "execution": {
     "iopub.execute_input": "2023-12-08T06:08:34.103250Z",
     "iopub.status.busy": "2023-12-08T06:08:34.102535Z",
     "iopub.status.idle": "2023-12-08T06:08:34.128786Z",
     "shell.execute_reply": "2023-12-08T06:08:34.127737Z",
     "shell.execute_reply.started": "2023-12-08T06:08:34.103207Z"
    }
   },
   "outputs": [
    {
     "name": "stdout",
     "output_type": "stream",
     "text": [
      "Model: \"sequential\"\n",
      "_________________________________________________________________\n",
      " Layer (type)                Output Shape              Param #   \n",
      "=================================================================\n",
      " lstm (LSTM)                 (None, 200, 50)           10400     \n",
      "                                                                 \n",
      " lstm_1 (LSTM)               (None, 200, 50)           20200     \n",
      "                                                                 \n",
      " lstm_2 (LSTM)               (None, 50)                20200     \n",
      "                                                                 \n",
      " dense (Dense)               (None, 1)                 51        \n",
      "                                                                 \n",
      "=================================================================\n",
      "Total params: 50851 (198.64 KB)\n",
      "Trainable params: 50851 (198.64 KB)\n",
      "Non-trainable params: 0 (0.00 Byte)\n",
      "_________________________________________________________________\n"
     ]
    }
   ],
   "source": [
    "model.summary()"
   ]
  },
  {
   "cell_type": "code",
   "execution_count": 30,
   "metadata": {
    "execution": {
     "iopub.execute_input": "2023-12-08T06:08:34.131442Z",
     "iopub.status.busy": "2023-12-08T06:08:34.130688Z",
     "iopub.status.idle": "2023-12-08T06:33:01.352074Z",
     "shell.execute_reply": "2023-12-08T06:33:01.350785Z",
     "shell.execute_reply.started": "2023-12-08T06:08:34.131399Z"
    }
   },
   "outputs": [
    {
     "name": "stdout",
     "output_type": "stream",
     "text": [
      "Epoch 1/100\n",
      "50/50 [==============================] - 22s 319ms/step - loss: 0.0034 - val_loss: 0.0016\n",
      "Epoch 2/100\n",
      "50/50 [==============================] - 15s 295ms/step - loss: 9.1408e-05 - val_loss: 0.0019\n",
      "Epoch 3/100\n",
      "50/50 [==============================] - 14s 283ms/step - loss: 8.2434e-05 - val_loss: 0.0041\n",
      "Epoch 4/100\n",
      "50/50 [==============================] - 15s 291ms/step - loss: 7.6654e-05 - val_loss: 0.0043\n",
      "Epoch 5/100\n",
      "50/50 [==============================] - 15s 294ms/step - loss: 8.0629e-05 - val_loss: 0.0068\n",
      "Epoch 6/100\n",
      "50/50 [==============================] - 14s 285ms/step - loss: 7.5243e-05 - val_loss: 0.0065\n",
      "Epoch 7/100\n",
      "50/50 [==============================] - 14s 290ms/step - loss: 7.4377e-05 - val_loss: 0.0061\n",
      "Epoch 8/100\n",
      "50/50 [==============================] - 14s 283ms/step - loss: 7.1029e-05 - val_loss: 0.0049\n",
      "Epoch 9/100\n",
      "50/50 [==============================] - 14s 288ms/step - loss: 7.8781e-05 - val_loss: 0.0055\n",
      "Epoch 10/100\n",
      "50/50 [==============================] - 14s 282ms/step - loss: 7.1284e-05 - val_loss: 0.0051\n",
      "Epoch 11/100\n",
      "50/50 [==============================] - 14s 286ms/step - loss: 7.5312e-05 - val_loss: 0.0053\n",
      "Epoch 12/100\n",
      "50/50 [==============================] - 14s 280ms/step - loss: 7.1969e-05 - val_loss: 0.0046\n",
      "Epoch 13/100\n",
      "50/50 [==============================] - 14s 284ms/step - loss: 7.4604e-05 - val_loss: 0.0047\n",
      "Epoch 14/100\n",
      "50/50 [==============================] - 14s 282ms/step - loss: 6.8117e-05 - val_loss: 0.0040\n",
      "Epoch 15/100\n",
      "50/50 [==============================] - 14s 282ms/step - loss: 6.3349e-05 - val_loss: 0.0046\n",
      "Epoch 16/100\n",
      "50/50 [==============================] - 14s 286ms/step - loss: 6.8481e-05 - val_loss: 0.0049\n",
      "Epoch 17/100\n",
      "50/50 [==============================] - 14s 281ms/step - loss: 6.5565e-05 - val_loss: 0.0032\n",
      "Epoch 18/100\n",
      "50/50 [==============================] - 14s 289ms/step - loss: 6.1908e-05 - val_loss: 0.0029\n",
      "Epoch 19/100\n",
      "50/50 [==============================] - 14s 283ms/step - loss: 6.1309e-05 - val_loss: 0.0046\n",
      "Epoch 20/100\n",
      "50/50 [==============================] - 15s 297ms/step - loss: 6.3729e-05 - val_loss: 0.0026\n",
      "Epoch 21/100\n",
      "50/50 [==============================] - 14s 285ms/step - loss: 6.6190e-05 - val_loss: 0.0038\n",
      "Epoch 22/100\n",
      "50/50 [==============================] - 14s 288ms/step - loss: 5.6900e-05 - val_loss: 0.0039\n",
      "Epoch 23/100\n",
      "50/50 [==============================] - 14s 282ms/step - loss: 4.9569e-05 - val_loss: 0.0030\n",
      "Epoch 24/100\n",
      "50/50 [==============================] - 14s 282ms/step - loss: 5.2524e-05 - val_loss: 0.0010\n",
      "Epoch 25/100\n",
      "50/50 [==============================] - 14s 286ms/step - loss: 4.6878e-05 - val_loss: 0.0023\n",
      "Epoch 26/100\n",
      "50/50 [==============================] - 14s 286ms/step - loss: 4.3840e-05 - val_loss: 0.0019\n",
      "Epoch 27/100\n",
      "50/50 [==============================] - 15s 295ms/step - loss: 5.0998e-05 - val_loss: 0.0016\n",
      "Epoch 28/100\n",
      "50/50 [==============================] - 14s 288ms/step - loss: 4.3479e-05 - val_loss: 0.0020\n",
      "Epoch 29/100\n",
      "50/50 [==============================] - 14s 290ms/step - loss: 3.9031e-05 - val_loss: 0.0018\n",
      "Epoch 30/100\n",
      "50/50 [==============================] - 14s 286ms/step - loss: 3.8731e-05 - val_loss: 0.0017\n",
      "Epoch 31/100\n",
      "50/50 [==============================] - 14s 286ms/step - loss: 3.6243e-05 - val_loss: 0.0020\n",
      "Epoch 32/100\n",
      "50/50 [==============================] - 14s 281ms/step - loss: 3.6837e-05 - val_loss: 0.0020\n",
      "Epoch 33/100\n",
      "50/50 [==============================] - 14s 283ms/step - loss: 4.0566e-05 - val_loss: 0.0014\n",
      "Epoch 34/100\n",
      "50/50 [==============================] - 14s 282ms/step - loss: 4.5058e-05 - val_loss: 9.6940e-04\n",
      "Epoch 35/100\n",
      "50/50 [==============================] - 14s 282ms/step - loss: 5.5905e-05 - val_loss: 0.0012\n",
      "Epoch 36/100\n",
      "50/50 [==============================] - 14s 291ms/step - loss: 3.2519e-05 - val_loss: 0.0039\n",
      "Epoch 37/100\n",
      "50/50 [==============================] - 14s 284ms/step - loss: 3.7992e-05 - val_loss: 0.0020\n",
      "Epoch 38/100\n",
      "50/50 [==============================] - 14s 288ms/step - loss: 3.1767e-05 - val_loss: 0.0014\n",
      "Epoch 39/100\n",
      "50/50 [==============================] - 14s 284ms/step - loss: 3.1544e-05 - val_loss: 8.5012e-04\n",
      "Epoch 40/100\n",
      "50/50 [==============================] - 14s 288ms/step - loss: 3.4272e-05 - val_loss: 0.0011\n",
      "Epoch 41/100\n",
      "50/50 [==============================] - 14s 283ms/step - loss: 2.8463e-05 - val_loss: 0.0013\n",
      "Epoch 42/100\n",
      "50/50 [==============================] - 14s 287ms/step - loss: 3.1186e-05 - val_loss: 0.0017\n",
      "Epoch 43/100\n",
      "50/50 [==============================] - 14s 283ms/step - loss: 2.8124e-05 - val_loss: 0.0016\n",
      "Epoch 44/100\n",
      "50/50 [==============================] - 14s 288ms/step - loss: 2.9114e-05 - val_loss: 0.0019\n",
      "Epoch 45/100\n",
      "50/50 [==============================] - 15s 291ms/step - loss: 2.6972e-05 - val_loss: 0.0015\n",
      "Epoch 46/100\n",
      "50/50 [==============================] - 14s 285ms/step - loss: 2.6106e-05 - val_loss: 0.0010\n",
      "Epoch 47/100\n",
      "50/50 [==============================] - 14s 290ms/step - loss: 2.5982e-05 - val_loss: 7.6325e-04\n",
      "Epoch 48/100\n",
      "50/50 [==============================] - 14s 285ms/step - loss: 3.1924e-05 - val_loss: 4.1194e-04\n",
      "Epoch 49/100\n",
      "50/50 [==============================] - 15s 301ms/step - loss: 2.7008e-05 - val_loss: 0.0017\n",
      "Epoch 50/100\n",
      "50/50 [==============================] - 15s 297ms/step - loss: 2.5086e-05 - val_loss: 0.0011\n",
      "Epoch 51/100\n",
      "50/50 [==============================] - 15s 295ms/step - loss: 2.6049e-05 - val_loss: 9.1966e-04\n",
      "Epoch 52/100\n",
      "50/50 [==============================] - 14s 290ms/step - loss: 2.3017e-05 - val_loss: 0.0016\n",
      "Epoch 53/100\n",
      "50/50 [==============================] - 15s 301ms/step - loss: 2.4148e-05 - val_loss: 0.0013\n",
      "Epoch 54/100\n",
      "50/50 [==============================] - 14s 289ms/step - loss: 2.3361e-05 - val_loss: 0.0014\n",
      "Epoch 55/100\n",
      "50/50 [==============================] - 15s 299ms/step - loss: 2.3408e-05 - val_loss: 0.0013\n",
      "Epoch 56/100\n",
      "50/50 [==============================] - 15s 302ms/step - loss: 2.2035e-05 - val_loss: 7.8233e-04\n",
      "Epoch 57/100\n",
      "50/50 [==============================] - 15s 295ms/step - loss: 2.1160e-05 - val_loss: 0.0012\n",
      "Epoch 58/100\n",
      "50/50 [==============================] - 15s 307ms/step - loss: 2.3809e-05 - val_loss: 7.8185e-04\n",
      "Epoch 59/100\n",
      "50/50 [==============================] - 15s 301ms/step - loss: 2.3261e-05 - val_loss: 0.0016\n",
      "Epoch 60/100\n",
      "50/50 [==============================] - 15s 309ms/step - loss: 2.4398e-05 - val_loss: 6.7456e-04\n",
      "Epoch 61/100\n",
      "50/50 [==============================] - 15s 300ms/step - loss: 2.5795e-05 - val_loss: 4.1033e-04\n",
      "Epoch 62/100\n",
      "50/50 [==============================] - 15s 298ms/step - loss: 2.4271e-05 - val_loss: 9.2967e-04\n",
      "Epoch 63/100\n",
      "50/50 [==============================] - 15s 297ms/step - loss: 2.3419e-05 - val_loss: 0.0012\n",
      "Epoch 64/100\n",
      "50/50 [==============================] - 15s 303ms/step - loss: 2.2815e-05 - val_loss: 0.0017\n",
      "Epoch 65/100\n",
      "50/50 [==============================] - 15s 293ms/step - loss: 2.2964e-05 - val_loss: 7.8504e-04\n",
      "Epoch 66/100\n",
      "50/50 [==============================] - 15s 293ms/step - loss: 2.4957e-05 - val_loss: 5.7783e-04\n",
      "Epoch 67/100\n",
      "50/50 [==============================] - 15s 291ms/step - loss: 2.0856e-05 - val_loss: 0.0013\n",
      "Epoch 68/100\n",
      "50/50 [==============================] - 16s 311ms/step - loss: 1.9889e-05 - val_loss: 0.0020\n",
      "Epoch 69/100\n",
      "50/50 [==============================] - 16s 311ms/step - loss: 1.9785e-05 - val_loss: 0.0016\n",
      "Epoch 70/100\n",
      "50/50 [==============================] - 15s 295ms/step - loss: 2.1381e-05 - val_loss: 0.0019\n",
      "Epoch 71/100\n",
      "50/50 [==============================] - 15s 305ms/step - loss: 2.4564e-05 - val_loss: 5.6426e-04\n",
      "Epoch 72/100\n",
      "50/50 [==============================] - 14s 288ms/step - loss: 1.7833e-05 - val_loss: 0.0013\n",
      "Epoch 73/100\n",
      "50/50 [==============================] - 15s 294ms/step - loss: 1.7854e-05 - val_loss: 0.0011\n",
      "Epoch 74/100\n",
      "50/50 [==============================] - 14s 288ms/step - loss: 1.6478e-05 - val_loss: 8.5343e-04\n",
      "Epoch 75/100\n",
      "50/50 [==============================] - 15s 292ms/step - loss: 1.7171e-05 - val_loss: 0.0011\n",
      "Epoch 76/100\n",
      "50/50 [==============================] - 14s 287ms/step - loss: 1.8993e-05 - val_loss: 7.4625e-04\n",
      "Epoch 77/100\n",
      "50/50 [==============================] - 15s 293ms/step - loss: 1.9192e-05 - val_loss: 8.7585e-04\n",
      "Epoch 78/100\n",
      "50/50 [==============================] - 14s 288ms/step - loss: 1.8188e-05 - val_loss: 8.2586e-04\n",
      "Epoch 79/100\n",
      "50/50 [==============================] - 15s 292ms/step - loss: 1.6614e-05 - val_loss: 9.1478e-04\n",
      "Epoch 80/100\n",
      "50/50 [==============================] - 14s 286ms/step - loss: 1.7589e-05 - val_loss: 0.0013\n",
      "Epoch 81/100\n",
      "50/50 [==============================] - 14s 290ms/step - loss: 1.8372e-05 - val_loss: 6.2722e-04\n",
      "Epoch 82/100\n",
      "50/50 [==============================] - 14s 285ms/step - loss: 1.7676e-05 - val_loss: 0.0016\n",
      "Epoch 83/100\n",
      "50/50 [==============================] - 14s 288ms/step - loss: 1.6127e-05 - val_loss: 0.0013\n",
      "Epoch 84/100\n",
      "50/50 [==============================] - 14s 289ms/step - loss: 1.4404e-05 - val_loss: 0.0012\n",
      "Epoch 85/100\n",
      "50/50 [==============================] - 14s 282ms/step - loss: 1.6158e-05 - val_loss: 0.0017\n",
      "Epoch 86/100\n",
      "50/50 [==============================] - 14s 287ms/step - loss: 2.3961e-05 - val_loss: 0.0010\n",
      "Epoch 87/100\n",
      "50/50 [==============================] - 14s 282ms/step - loss: 1.8169e-05 - val_loss: 0.0015\n",
      "Epoch 88/100\n",
      "50/50 [==============================] - 14s 287ms/step - loss: 1.6245e-05 - val_loss: 9.5195e-04\n",
      "Epoch 89/100\n",
      "50/50 [==============================] - 14s 290ms/step - loss: 1.4679e-05 - val_loss: 0.0011\n",
      "Epoch 90/100\n",
      "50/50 [==============================] - 14s 290ms/step - loss: 1.7715e-05 - val_loss: 0.0013\n",
      "Epoch 91/100\n",
      "50/50 [==============================] - 14s 282ms/step - loss: 1.5512e-05 - val_loss: 7.4151e-04\n",
      "Epoch 92/100\n",
      "50/50 [==============================] - 14s 285ms/step - loss: 1.8730e-05 - val_loss: 6.3021e-04\n",
      "Epoch 93/100\n",
      "50/50 [==============================] - 15s 293ms/step - loss: 1.6072e-05 - val_loss: 0.0012\n",
      "Epoch 94/100\n",
      "50/50 [==============================] - 14s 285ms/step - loss: 1.6241e-05 - val_loss: 8.9121e-04\n",
      "Epoch 95/100\n",
      "50/50 [==============================] - 14s 286ms/step - loss: 1.6079e-05 - val_loss: 0.0013\n",
      "Epoch 96/100\n",
      "50/50 [==============================] - 14s 284ms/step - loss: 1.8058e-05 - val_loss: 0.0010\n",
      "Epoch 97/100\n",
      "50/50 [==============================] - 14s 286ms/step - loss: 1.4372e-05 - val_loss: 0.0016\n",
      "Epoch 98/100\n",
      "50/50 [==============================] - 14s 285ms/step - loss: 1.5202e-05 - val_loss: 0.0018\n",
      "Epoch 99/100\n",
      "50/50 [==============================] - 14s 289ms/step - loss: 1.5134e-05 - val_loss: 0.0017\n",
      "Epoch 100/100\n",
      "50/50 [==============================] - 14s 283ms/step - loss: 1.3956e-05 - val_loss: 0.0024\n"
     ]
    },
    {
     "data": {
      "text/plain": [
       "<keras.src.callbacks.History at 0x7ce7b80e25c0>"
      ]
     },
     "execution_count": 30,
     "metadata": {},
     "output_type": "execute_result"
    }
   ],
   "source": [
    "model.fit(X_train,y_train,validation_data=(X_test,y_test),epochs=100,batch_size=64,verbose=1)"
   ]
  },
  {
   "cell_type": "code",
   "execution_count": 31,
   "metadata": {
    "execution": {
     "iopub.execute_input": "2023-12-08T06:33:01.353740Z",
     "iopub.status.busy": "2023-12-08T06:33:01.353392Z",
     "iopub.status.idle": "2023-12-08T06:33:12.135764Z",
     "shell.execute_reply": "2023-12-08T06:33:12.134539Z",
     "shell.execute_reply.started": "2023-12-08T06:33:01.353710Z"
    }
   },
   "outputs": [
    {
     "name": "stdout",
     "output_type": "stream",
     "text": [
      "99/99 [==============================] - 8s 66ms/step\n",
      "29/29 [==============================] - 2s 66ms/step\n"
     ]
    }
   ],
   "source": [
    "# prediction and check performance metrics\n",
    "train_predict=model.predict(X_train)\n",
    "test_predict=model.predict(X_test)"
   ]
  },
  {
   "cell_type": "code",
   "execution_count": 32,
   "metadata": {
    "execution": {
     "iopub.execute_input": "2023-12-08T06:33:12.138659Z",
     "iopub.status.busy": "2023-12-08T06:33:12.137556Z",
     "iopub.status.idle": "2023-12-08T06:33:12.143847Z",
     "shell.execute_reply": "2023-12-08T06:33:12.142587Z",
     "shell.execute_reply.started": "2023-12-08T06:33:12.138617Z"
    }
   },
   "outputs": [],
   "source": [
    "# Transformback to original form\n",
    "train_predict=scaler.inverse_transform(train_predict)\n",
    "test_predict=scaler.inverse_transform(test_predict)"
   ]
  },
  {
   "cell_type": "code",
   "execution_count": 33,
   "metadata": {
    "execution": {
     "iopub.execute_input": "2023-12-08T06:33:12.145528Z",
     "iopub.status.busy": "2023-12-08T06:33:12.145199Z",
     "iopub.status.idle": "2023-12-08T06:33:12.176578Z",
     "shell.execute_reply": "2023-12-08T06:33:12.175525Z",
     "shell.execute_reply.started": "2023-12-08T06:33:12.145499Z"
    }
   },
   "outputs": [
    {
     "data": {
      "text/plain": [
       "795.1703752802537"
      ]
     },
     "execution_count": 33,
     "metadata": {},
     "output_type": "execute_result"
    }
   ],
   "source": [
    "from sklearn.metrics import mean_squared_error\n",
    "np.sqrt(mean_squared_error(y_train,train_predict))"
   ]
  },
  {
   "cell_type": "code",
   "execution_count": 34,
   "metadata": {
    "execution": {
     "iopub.execute_input": "2023-12-08T06:33:12.178335Z",
     "iopub.status.busy": "2023-12-08T06:33:12.177893Z",
     "iopub.status.idle": "2023-12-08T06:33:12.186663Z",
     "shell.execute_reply": "2023-12-08T06:33:12.185327Z",
     "shell.execute_reply.started": "2023-12-08T06:33:12.178304Z"
    }
   },
   "outputs": [
    {
     "data": {
      "text/plain": [
       "2670.663069655658"
      ]
     },
     "execution_count": 34,
     "metadata": {},
     "output_type": "execute_result"
    }
   ],
   "source": [
    "# Test Data RMSE\n",
    "np.sqrt(mean_squared_error(y_test,test_predict))"
   ]
  },
  {
   "cell_type": "code",
   "execution_count": 35,
   "metadata": {
    "execution": {
     "iopub.execute_input": "2023-12-08T06:33:12.188966Z",
     "iopub.status.busy": "2023-12-08T06:33:12.188501Z",
     "iopub.status.idle": "2023-12-08T06:33:12.393324Z",
     "shell.execute_reply": "2023-12-08T06:33:12.392045Z",
     "shell.execute_reply.started": "2023-12-08T06:33:12.188921Z"
    }
   },
   "outputs": [
    {
     "data": {
      "image/png": "[encoded data removed]",
      "text/plain": [
       "<Figure size 640x480 with 1 Axes>"
      ]
     },
     "metadata": {},
     "output_type": "display_data"
    }
   ],
   "source": [
    "# Plotting \n",
    "# shift train predictions for plotting\n",
    "look_back=time_step\n",
    "trainPredictPlot = np.empty_like(df1)\n",
    "trainPredictPlot[:, :] = np.nan\n",
    "trainPredictPlot[look_back:len(train_predict)+look_back, :] = train_predict\n",
    "# shift test predictions for plotting\n",
    "testPredictPlot = np.empty_like(df1)\n",
    "testPredictPlot[:, :] = np.nan\n",
    "testPredictPlot[len(train_predict)+(look_back*2)+1:len(df1)-1, :] = test_predict\n",
    "# plot baseline and predictions\n",
    "plt.plot(scaler.inverse_transform(df1))\n",
    "plt.plot(trainPredictPlot)\n",
    "plt.plot(testPredictPlot)\n",
    "plt.show()"
   ]
  },
  {
   "cell_type": "code",
   "execution_count": 36,
   "metadata": {
    "execution": {
     "iopub.execute_input": "2023-12-08T06:33:12.395320Z",
     "iopub.status.busy": "2023-12-08T06:33:12.394866Z",
     "iopub.status.idle": "2023-12-08T06:33:12.403303Z",
     "shell.execute_reply": "2023-12-08T06:33:12.401994Z",
     "shell.execute_reply.started": "2023-12-08T06:33:12.395277Z"
    }
   },
   "outputs": [
    {
     "data": {
      "text/plain": [
       "922"
      ]
     },
     "execution_count": 36,
     "metadata": {},
     "output_type": "execute_result"
    }
   ],
   "source": [
    "first_temp = len(test_data) - time_step\n",
    "first_temp"
   ]
  },
  {
   "cell_type": "code",
   "execution_count": 37,
   "metadata": {
    "execution": {
     "iopub.execute_input": "2023-12-08T06:33:12.405360Z",
     "iopub.status.busy": "2023-12-08T06:33:12.404869Z",
     "iopub.status.idle": "2023-12-08T06:33:12.419783Z",
     "shell.execute_reply": "2023-12-08T06:33:12.418592Z",
     "shell.execute_reply.started": "2023-12-08T06:33:12.405318Z"
    }
   },
   "outputs": [
    {
     "data": {
      "text/plain": [
       "(1, 200)"
      ]
     },
     "execution_count": 37,
     "metadata": {},
     "output_type": "execute_result"
    }
   ],
   "source": [
    "x_input=test_data[first_temp:].reshape(1,-1)\n",
    "x_input.shape"
   ]
  },
  {
   "cell_type": "code",
   "execution_count": 38,
   "metadata": {
    "execution": {
     "iopub.execute_input": "2023-12-08T06:33:12.421439Z",
     "iopub.status.busy": "2023-12-08T06:33:12.421105Z",
     "iopub.status.idle": "2023-12-08T06:33:12.431271Z",
     "shell.execute_reply": "2023-12-08T06:33:12.430172Z",
     "shell.execute_reply.started": "2023-12-08T06:33:12.421408Z"
    }
   },
   "outputs": [],
   "source": [
    "temp_input=list(x_input)\n",
    "temp_input=temp_input[0].tolist()"
   ]
  },
  {
   "cell_type": "code",
   "execution_count": 39,
   "metadata": {
    "execution": {
     "iopub.execute_input": "2023-12-08T06:33:12.433226Z",
     "iopub.status.busy": "2023-12-08T06:33:12.432316Z",
     "iopub.status.idle": "2023-12-08T06:33:12.445694Z",
     "shell.execute_reply": "2023-12-08T06:33:12.444571Z",
     "shell.execute_reply.started": "2023-12-08T06:33:12.433188Z"
    }
   },
   "outputs": [
    {
     "data": {
      "text/plain": [
       "0.9656055109341172"
      ]
     },
     "execution_count": 39,
     "metadata": {},
     "output_type": "execute_result"
    }
   ],
   "source": [
    "temp_input[0]"
   ]
  },
  {
   "cell_type": "code",
   "execution_count": 40,
   "metadata": {
    "execution": {
     "iopub.execute_input": "2023-12-08T06:33:12.447513Z",
     "iopub.status.busy": "2023-12-08T06:33:12.447198Z",
     "iopub.status.idle": "2023-12-08T06:33:12.459320Z",
     "shell.execute_reply": "2023-12-08T06:33:12.458202Z",
     "shell.execute_reply.started": "2023-12-08T06:33:12.447485Z"
    }
   },
   "outputs": [
    {
     "data": {
      "text/plain": [
       "200"
      ]
     },
     "execution_count": 40,
     "metadata": {},
     "output_type": "execute_result"
    }
   ],
   "source": [
    "len(temp_input)"
   ]
  },
  {
   "cell_type": "code",
   "execution_count": 41,
   "metadata": {
    "execution": {
     "iopub.execute_input": "2023-12-08T06:33:12.460768Z",
     "iopub.status.busy": "2023-12-08T06:33:12.460428Z",
     "iopub.status.idle": "2023-12-08T06:33:12.472741Z",
     "shell.execute_reply": "2023-12-08T06:33:12.471801Z",
     "shell.execute_reply.started": "2023-12-08T06:33:12.460738Z"
    }
   },
   "outputs": [
    {
     "data": {
      "text/plain": [
       "(1, 200)"
      ]
     },
     "execution_count": 41,
     "metadata": {},
     "output_type": "execute_result"
    }
   ],
   "source": [
    "x_input.shape"
   ]
  },
  {
   "cell_type": "code",
   "execution_count": 42,
   "metadata": {
    "execution": {
     "iopub.execute_input": "2023-12-08T06:33:12.474662Z",
     "iopub.status.busy": "2023-12-08T06:33:12.474226Z",
     "iopub.status.idle": "2023-12-08T06:33:12.489291Z",
     "shell.execute_reply": "2023-12-08T06:33:12.488116Z",
     "shell.execute_reply.started": "2023-12-08T06:33:12.474620Z"
    }
   },
   "outputs": [
    {
     "data": {
      "text/plain": [
       "array([[[0.96560551],\n",
       "        [0.9595148 ],\n",
       "        [0.94582353],\n",
       "        [0.95760827],\n",
       "        [0.96435157],\n",
       "        [0.97357713],\n",
       "        [0.95924608],\n",
       "        [0.96897072],\n",
       "        [0.98694851],\n",
       "        [1.        ],\n",
       "        [0.99269378],\n",
       "        [0.97325724],\n",
       "        [0.95071147],\n",
       "        [0.95249004],\n",
       "        [0.93658516],\n",
       "        [0.93621404],\n",
       "        [0.90533834],\n",
       "        [0.91577954],\n",
       "        [0.92760264],\n",
       "        [0.94408332],\n",
       "        [0.95829922],\n",
       "        [0.95021246],\n",
       "        [0.94773006],\n",
       "        [0.93854286],\n",
       "        [0.92944519],\n",
       "        [0.93382131],\n",
       "        [0.93632925],\n",
       "        [0.91703348],\n",
       "        [0.92696286],\n",
       "        [0.94847224],\n",
       "        [0.94726947],\n",
       "        [0.93987359],\n",
       "        [0.94235592],\n",
       "        [0.92329051],\n",
       "        [0.88925427],\n",
       "        [0.88347071],\n",
       "        [0.84197461],\n",
       "        [0.8724537 ],\n",
       "        [0.88101393],\n",
       "        [0.87895383],\n",
       "        [0.87850599],\n",
       "        [0.87337501],\n",
       "        [0.86327925],\n",
       "        [0.89272189],\n",
       "        [0.90107744],\n",
       "        [0.89809603],\n",
       "        [0.89251714],\n",
       "        [0.90373889],\n",
       "        [0.89117361],\n",
       "        [0.90704012],\n",
       "        [0.91135226],\n",
       "        [0.89956752],\n",
       "        [0.91856895],\n",
       "        [0.92149913],\n",
       "        [0.93108307],\n",
       "        [0.92023238],\n",
       "        [0.92029636],\n",
       "        [0.919695  ],\n",
       "        [0.92639987],\n",
       "        [0.9285495 ],\n",
       "        [0.93336065],\n",
       "        [0.93632925],\n",
       "        [0.94770451],\n",
       "        [0.93249058],\n",
       "        [0.91426963],\n",
       "        [0.91465349],\n",
       "        [0.91740454],\n",
       "        [0.91604826],\n",
       "        [0.9085884 ],\n",
       "        [0.87432187],\n",
       "        [0.8599524 ],\n",
       "        [0.88167933],\n",
       "        [0.90006653],\n",
       "        [0.8959464 ],\n",
       "        [0.87947846],\n",
       "        [0.87899225],\n",
       "        [0.88280531],\n",
       "        [0.88871689],\n",
       "        [0.87909459],\n",
       "        [0.87799416],\n",
       "        [0.86196133],\n",
       "        [0.87057273],\n",
       "        [0.84989512],\n",
       "        [0.85309402],\n",
       "        [0.85146895],\n",
       "        [0.84462332],\n",
       "        [0.84376599],\n",
       "        [0.84536544],\n",
       "        [0.83561524],\n",
       "        [0.85475744],\n",
       "        [0.85404088],\n",
       "        [0.80622378],\n",
       "        [0.81416984],\n",
       "        [0.8215273 ],\n",
       "        [0.81289029],\n",
       "        [0.7820913 ],\n",
       "        [0.79726687],\n",
       "        [0.80605746],\n",
       "        [0.83521857],\n",
       "        [0.83242916],\n",
       "        [0.83008753],\n",
       "        [0.84743835],\n",
       "        [0.8518272 ],\n",
       "        [0.84947283],\n",
       "        [0.83200687],\n",
       "        [0.84261439],\n",
       "        [0.84848761],\n",
       "        [0.8312903 ],\n",
       "        [0.79538596],\n",
       "        [0.79306995],\n",
       "        [0.79198232],\n",
       "        [0.7755272 ],\n",
       "        [0.76193827],\n",
       "        [0.76795219],\n",
       "        [0.7934282 ],\n",
       "        [0.79624323],\n",
       "        [0.81821326],\n",
       "        [0.81419546],\n",
       "        [0.81972311],\n",
       "        [0.82060599],\n",
       "        [0.81353006],\n",
       "        [0.80754176],\n",
       "        [0.81982551],\n",
       "        [0.79933978],\n",
       "        [0.79454144],\n",
       "        [0.8059167 ],\n",
       "        [0.81285192],\n",
       "        [0.80711947],\n",
       "        [0.7683105 ],\n",
       "        [0.76086345],\n",
       "        [0.74910433],\n",
       "        [0.73886787],\n",
       "        [0.73780586],\n",
       "        [0.75543814],\n",
       "        [0.75818919],\n",
       "        [0.78136199],\n",
       "        [0.78456089],\n",
       "        [0.78294863],\n",
       "        [0.78186101],\n",
       "        [0.76884788],\n",
       "        [0.78751668],\n",
       "        [0.80585272],\n",
       "        [0.81644743],\n",
       "        [0.81565414],\n",
       "        [0.81386276],\n",
       "        [0.82606973],\n",
       "        [0.83002355],\n",
       "        [0.83260828],\n",
       "        [0.83501383],\n",
       "        [0.82984443],\n",
       "        [0.84731039],\n",
       "        [0.84194906],\n",
       "        [0.83968421],\n",
       "        [0.84183391],\n",
       "        [0.83675404],\n",
       "        [0.83790564],\n",
       "        [0.82992121],\n",
       "        [0.81202021],\n",
       "        [0.8045348 ],\n",
       "        [0.79502765],\n",
       "        [0.79605129],\n",
       "        [0.77310885],\n",
       "        [0.79322346],\n",
       "        [0.7728913 ],\n",
       "        [0.7725586 ],\n",
       "        [0.77332633],\n",
       "        [0.77170133],\n",
       "        [0.77747215],\n",
       "        [0.78260313],\n",
       "        [0.79488688],\n",
       "        [0.80136146],\n",
       "        [0.7978811 ],\n",
       "        [0.76999948],\n",
       "        [0.76589215],\n",
       "        [0.74141417],\n",
       "        [0.74655802],\n",
       "        [0.749501  ],\n",
       "        [0.73949484],\n",
       "        [0.74108148],\n",
       "        [0.73459416],\n",
       "        [0.73775463],\n",
       "        [0.7436534 ],\n",
       "        [0.74831098],\n",
       "        [0.73849681],\n",
       "        [0.74035217],\n",
       "        [0.73533627],\n",
       "        [0.76251407],\n",
       "        [0.76527793],\n",
       "        [0.75579639],\n",
       "        [0.76952608],\n",
       "        [0.75698642],\n",
       "        [0.76497085],\n",
       "        [0.76562343],\n",
       "        [0.76456136],\n",
       "        [0.76778587],\n",
       "        [0.77621815],\n",
       "        [0.7703706 ],\n",
       "        [0.77944266],\n",
       "        [0.77434998],\n",
       "        [0.78056864]]])"
      ]
     },
     "execution_count": 42,
     "metadata": {},
     "output_type": "execute_result"
    }
   ],
   "source": [
    "x_input.reshape(1,-1).reshape((1, time_step, 1))"
   ]
  },
  {
   "cell_type": "code",
   "execution_count": 43,
   "metadata": {
    "execution": {
     "iopub.execute_input": "2023-12-08T06:33:12.491882Z",
     "iopub.status.busy": "2023-12-08T06:33:12.490830Z",
     "iopub.status.idle": "2023-12-08T06:33:12.502893Z",
     "shell.execute_reply": "2023-12-08T06:33:12.501787Z",
     "shell.execute_reply.started": "2023-12-08T06:33:12.491836Z"
    }
   },
   "outputs": [
    {
     "data": {
      "text/plain": [
       "(1, 200)"
      ]
     },
     "execution_count": 43,
     "metadata": {},
     "output_type": "execute_result"
    }
   ],
   "source": [
    "x_input.shape"
   ]
  },
  {
   "cell_type": "code",
   "execution_count": 44,
   "metadata": {
    "execution": {
     "iopub.execute_input": "2023-12-08T06:33:12.505262Z",
     "iopub.status.busy": "2023-12-08T06:33:12.504702Z",
     "iopub.status.idle": "2023-12-08T06:33:12.518200Z",
     "shell.execute_reply": "2023-12-08T06:33:12.516888Z",
     "shell.execute_reply.started": "2023-12-08T06:33:12.505204Z"
    }
   },
   "outputs": [
    {
     "data": {
      "text/plain": [
       "200"
      ]
     },
     "execution_count": 44,
     "metadata": {},
     "output_type": "execute_result"
    }
   ],
   "source": [
    "time_step"
   ]
  },
  {
   "cell_type": "code",
   "execution_count": 45,
   "metadata": {
    "execution": {
     "iopub.execute_input": "2023-12-08T06:33:12.521210Z",
     "iopub.status.busy": "2023-12-08T06:33:12.520360Z",
     "iopub.status.idle": "2023-12-08T06:33:15.187615Z",
     "shell.execute_reply": "2023-12-08T06:33:15.186372Z",
     "shell.execute_reply.started": "2023-12-08T06:33:12.521160Z"
    }
   },
   "outputs": [
    {
     "name": "stdout",
     "output_type": "stream",
     "text": [
      "[0.7297545]\n",
      "201\n",
      "1 day input [0.9595148  0.94582353 0.95760827 0.96435157 0.97357713 0.95924608\n",
      " 0.96897072 0.98694851 1.         0.99269378 0.97325724 0.95071147\n",
      " 0.95249004 0.93658516 0.93621404 0.90533834 0.91577954 0.92760264\n",
      " 0.94408332 0.95829922 0.95021246 0.94773006 0.93854286 0.92944519\n",
      " 0.93382131 0.93632925 0.91703348 0.92696286 0.94847224 0.94726947\n",
      " 0.93987359 0.94235592 0.92329051 0.88925427 0.88347071 0.84197461\n",
      " 0.8724537  0.88101393 0.87895383 0.87850599 0.87337501 0.86327925\n",
      " 0.89272189 0.90107744 0.89809603 0.89251714 0.90373889 0.89117361\n",
      " 0.90704012 0.91135226 0.89956752 0.91856895 0.92149913 0.93108307\n",
      " 0.92023238 0.92029636 0.919695   0.92639987 0.9285495  0.93336065\n",
      " 0.93632925 0.94770451 0.93249058 0.91426963 0.91465349 0.91740454\n",
      " 0.91604826 0.9085884  0.87432187 0.8599524  0.88167933 0.90006653\n",
      " 0.8959464  0.87947846 0.87899225 0.88280531 0.88871689 0.87909459\n",
      " 0.87799416 0.86196133 0.87057273 0.84989512 0.85309402 0.85146895\n",
      " 0.84462332 0.84376599 0.84536544 0.83561524 0.85475744 0.85404088\n",
      " 0.80622378 0.81416984 0.8215273  0.81289029 0.7820913  0.79726687\n",
      " 0.80605746 0.83521857 0.83242916 0.83008753 0.84743835 0.8518272\n",
      " 0.84947283 0.83200687 0.84261439 0.84848761 0.8312903  0.79538596\n",
      " 0.79306995 0.79198232 0.7755272  0.76193827 0.76795219 0.7934282\n",
      " 0.79624323 0.81821326 0.81419546 0.81972311 0.82060599 0.81353006\n",
      " 0.80754176 0.81982551 0.79933978 0.79454144 0.8059167  0.81285192\n",
      " 0.80711947 0.7683105  0.76086345 0.74910433 0.73886787 0.73780586\n",
      " 0.75543814 0.75818919 0.78136199 0.78456089 0.78294863 0.78186101\n",
      " 0.76884788 0.78751668 0.80585272 0.81644743 0.81565414 0.81386276\n",
      " 0.82606973 0.83002355 0.83260828 0.83501383 0.82984443 0.84731039\n",
      " 0.84194906 0.83968421 0.84183391 0.83675404 0.83790564 0.82992121\n",
      " 0.81202021 0.8045348  0.79502765 0.79605129 0.77310885 0.79322346\n",
      " 0.7728913  0.7725586  0.77332633 0.77170133 0.77747215 0.78260313\n",
      " 0.79488688 0.80136146 0.7978811  0.76999948 0.76589215 0.74141417\n",
      " 0.74655802 0.749501   0.73949484 0.74108148 0.73459416 0.73775463\n",
      " 0.7436534  0.74831098 0.73849681 0.74035217 0.73533627 0.76251407\n",
      " 0.76527793 0.75579639 0.76952608 0.75698642 0.76497085 0.76562343\n",
      " 0.76456136 0.76778587 0.77621815 0.7703706  0.77944266 0.77434998\n",
      " 0.78056864 0.72975451]\n",
      "1 day output [[0.6732523]]\n",
      "2 day input [0.94582353 0.95760827 0.96435157 0.97357713 0.95924608 0.96897072\n",
      " 0.98694851 1.         0.99269378 0.97325724 0.95071147 0.95249004\n",
      " 0.93658516 0.93621404 0.90533834 0.91577954 0.92760264 0.94408332\n",
      " 0.95829922 0.95021246 0.94773006 0.93854286 0.92944519 0.93382131\n",
      " 0.93632925 0.91703348 0.92696286 0.94847224 0.94726947 0.93987359\n",
      " 0.94235592 0.92329051 0.88925427 0.88347071 0.84197461 0.8724537\n",
      " 0.88101393 0.87895383 0.87850599 0.87337501 0.86327925 0.89272189\n",
      " 0.90107744 0.89809603 0.89251714 0.90373889 0.89117361 0.90704012\n",
      " 0.91135226 0.89956752 0.91856895 0.92149913 0.93108307 0.92023238\n",
      " 0.92029636 0.919695   0.92639987 0.9285495  0.93336065 0.93632925\n",
      " 0.94770451 0.93249058 0.91426963 0.91465349 0.91740454 0.91604826\n",
      " 0.9085884  0.87432187 0.8599524  0.88167933 0.90006653 0.8959464\n",
      " 0.87947846 0.87899225 0.88280531 0.88871689 0.87909459 0.87799416\n",
      " 0.86196133 0.87057273 0.84989512 0.85309402 0.85146895 0.84462332\n",
      " 0.84376599 0.84536544 0.83561524 0.85475744 0.85404088 0.80622378\n",
      " 0.81416984 0.8215273  0.81289029 0.7820913  0.79726687 0.80605746\n",
      " 0.83521857 0.83242916 0.83008753 0.84743835 0.8518272  0.84947283\n",
      " 0.83200687 0.84261439 0.84848761 0.8312903  0.79538596 0.79306995\n",
      " 0.79198232 0.7755272  0.76193827 0.76795219 0.7934282  0.79624323\n",
      " 0.81821326 0.81419546 0.81972311 0.82060599 0.81353006 0.80754176\n",
      " 0.81982551 0.79933978 0.79454144 0.8059167  0.81285192 0.80711947\n",
      " 0.7683105  0.76086345 0.74910433 0.73886787 0.73780586 0.75543814\n",
      " 0.75818919 0.78136199 0.78456089 0.78294863 0.78186101 0.76884788\n",
      " 0.78751668 0.80585272 0.81644743 0.81565414 0.81386276 0.82606973\n",
      " 0.83002355 0.83260828 0.83501383 0.82984443 0.84731039 0.84194906\n",
      " 0.83968421 0.84183391 0.83675404 0.83790564 0.82992121 0.81202021\n",
      " 0.8045348  0.79502765 0.79605129 0.77310885 0.79322346 0.7728913\n",
      " 0.7725586  0.77332633 0.77170133 0.77747215 0.78260313 0.79488688\n",
      " 0.80136146 0.7978811  0.76999948 0.76589215 0.74141417 0.74655802\n",
      " 0.749501   0.73949484 0.74108148 0.73459416 0.73775463 0.7436534\n",
      " 0.74831098 0.73849681 0.74035217 0.73533627 0.76251407 0.76527793\n",
      " 0.75579639 0.76952608 0.75698642 0.76497085 0.76562343 0.76456136\n",
      " 0.76778587 0.77621815 0.7703706  0.77944266 0.77434998 0.78056864\n",
      " 0.72975451 0.67325228]\n",
      "2 day output [[0.6271071]]\n",
      "3 day input [0.95760827 0.96435157 0.97357713 0.95924608 0.96897072 0.98694851\n",
      " 1.         0.99269378 0.97325724 0.95071147 0.95249004 0.93658516\n",
      " 0.93621404 0.90533834 0.91577954 0.92760264 0.94408332 0.95829922\n",
      " 0.95021246 0.94773006 0.93854286 0.92944519 0.93382131 0.93632925\n",
      " 0.91703348 0.92696286 0.94847224 0.94726947 0.93987359 0.94235592\n",
      " 0.92329051 0.88925427 0.88347071 0.84197461 0.8724537  0.88101393\n",
      " 0.87895383 0.87850599 0.87337501 0.86327925 0.89272189 0.90107744\n",
      " 0.89809603 0.89251714 0.90373889 0.89117361 0.90704012 0.91135226\n",
      " 0.89956752 0.91856895 0.92149913 0.93108307 0.92023238 0.92029636\n",
      " 0.919695   0.92639987 0.9285495  0.93336065 0.93632925 0.94770451\n",
      " 0.93249058 0.91426963 0.91465349 0.91740454 0.91604826 0.9085884\n",
      " 0.87432187 0.8599524  0.88167933 0.90006653 0.8959464  0.87947846\n",
      " 0.87899225 0.88280531 0.88871689 0.87909459 0.87799416 0.86196133\n",
      " 0.87057273 0.84989512 0.85309402 0.85146895 0.84462332 0.84376599\n",
      " 0.84536544 0.83561524 0.85475744 0.85404088 0.80622378 0.81416984\n",
      " 0.8215273  0.81289029 0.7820913  0.79726687 0.80605746 0.83521857\n",
      " 0.83242916 0.83008753 0.84743835 0.8518272  0.84947283 0.83200687\n",
      " 0.84261439 0.84848761 0.8312903  0.79538596 0.79306995 0.79198232\n",
      " 0.7755272  0.76193827 0.76795219 0.7934282  0.79624323 0.81821326\n",
      " 0.81419546 0.81972311 0.82060599 0.81353006 0.80754176 0.81982551\n",
      " 0.79933978 0.79454144 0.8059167  0.81285192 0.80711947 0.7683105\n",
      " 0.76086345 0.74910433 0.73886787 0.73780586 0.75543814 0.75818919\n",
      " 0.78136199 0.78456089 0.78294863 0.78186101 0.76884788 0.78751668\n",
      " 0.80585272 0.81644743 0.81565414 0.81386276 0.82606973 0.83002355\n",
      " 0.83260828 0.83501383 0.82984443 0.84731039 0.84194906 0.83968421\n",
      " 0.84183391 0.83675404 0.83790564 0.82992121 0.81202021 0.8045348\n",
      " 0.79502765 0.79605129 0.77310885 0.79322346 0.7728913  0.7725586\n",
      " 0.77332633 0.77170133 0.77747215 0.78260313 0.79488688 0.80136146\n",
      " 0.7978811  0.76999948 0.76589215 0.74141417 0.74655802 0.749501\n",
      " 0.73949484 0.74108148 0.73459416 0.73775463 0.7436534  0.74831098\n",
      " 0.73849681 0.74035217 0.73533627 0.76251407 0.76527793 0.75579639\n",
      " 0.76952608 0.75698642 0.76497085 0.76562343 0.76456136 0.76778587\n",
      " 0.77621815 0.7703706  0.77944266 0.77434998 0.78056864 0.72975451\n",
      " 0.67325228 0.62710708]\n",
      "3 day output [[0.5927966]]\n",
      "4 day input [0.96435157 0.97357713 0.95924608 0.96897072 0.98694851 1.\n",
      " 0.99269378 0.97325724 0.95071147 0.95249004 0.93658516 0.93621404\n",
      " 0.90533834 0.91577954 0.92760264 0.94408332 0.95829922 0.95021246\n",
      " 0.94773006 0.93854286 0.92944519 0.93382131 0.93632925 0.91703348\n",
      " 0.92696286 0.94847224 0.94726947 0.93987359 0.94235592 0.92329051\n",
      " 0.88925427 0.88347071 0.84197461 0.8724537  0.88101393 0.87895383\n",
      " 0.87850599 0.87337501 0.86327925 0.89272189 0.90107744 0.89809603\n",
      " 0.89251714 0.90373889 0.89117361 0.90704012 0.91135226 0.89956752\n",
      " 0.91856895 0.92149913 0.93108307 0.92023238 0.92029636 0.919695\n",
      " 0.92639987 0.9285495  0.93336065 0.93632925 0.94770451 0.93249058\n",
      " 0.91426963 0.91465349 0.91740454 0.91604826 0.9085884  0.87432187\n",
      " 0.8599524  0.88167933 0.90006653 0.8959464  0.87947846 0.87899225\n",
      " 0.88280531 0.88871689 0.87909459 0.87799416 0.86196133 0.87057273\n",
      " 0.84989512 0.85309402 0.85146895 0.84462332 0.84376599 0.84536544\n",
      " 0.83561524 0.85475744 0.85404088 0.80622378 0.81416984 0.8215273\n",
      " 0.81289029 0.7820913  0.79726687 0.80605746 0.83521857 0.83242916\n",
      " 0.83008753 0.84743835 0.8518272  0.84947283 0.83200687 0.84261439\n",
      " 0.84848761 0.8312903  0.79538596 0.79306995 0.79198232 0.7755272\n",
      " 0.76193827 0.76795219 0.7934282  0.79624323 0.81821326 0.81419546\n",
      " 0.81972311 0.82060599 0.81353006 0.80754176 0.81982551 0.79933978\n",
      " 0.79454144 0.8059167  0.81285192 0.80711947 0.7683105  0.76086345\n",
      " 0.74910433 0.73886787 0.73780586 0.75543814 0.75818919 0.78136199\n",
      " 0.78456089 0.78294863 0.78186101 0.76884788 0.78751668 0.80585272\n",
      " 0.81644743 0.81565414 0.81386276 0.82606973 0.83002355 0.83260828\n",
      " 0.83501383 0.82984443 0.84731039 0.84194906 0.83968421 0.84183391\n",
      " 0.83675404 0.83790564 0.82992121 0.81202021 0.8045348  0.79502765\n",
      " 0.79605129 0.77310885 0.79322346 0.7728913  0.7725586  0.77332633\n",
      " 0.77170133 0.77747215 0.78260313 0.79488688 0.80136146 0.7978811\n",
      " 0.76999948 0.76589215 0.74141417 0.74655802 0.749501   0.73949484\n",
      " 0.74108148 0.73459416 0.73775463 0.7436534  0.74831098 0.73849681\n",
      " 0.74035217 0.73533627 0.76251407 0.76527793 0.75579639 0.76952608\n",
      " 0.75698642 0.76497085 0.76562343 0.76456136 0.76778587 0.77621815\n",
      " 0.7703706  0.77944266 0.77434998 0.78056864 0.72975451 0.67325228\n",
      " 0.62710708 0.59279662]\n",
      "4 day output [[0.57060456]]\n",
      "5 day input [0.97357713 0.95924608 0.96897072 0.98694851 1.         0.99269378\n",
      " 0.97325724 0.95071147 0.95249004 0.93658516 0.93621404 0.90533834\n",
      " 0.91577954 0.92760264 0.94408332 0.95829922 0.95021246 0.94773006\n",
      " 0.93854286 0.92944519 0.93382131 0.93632925 0.91703348 0.92696286\n",
      " 0.94847224 0.94726947 0.93987359 0.94235592 0.92329051 0.88925427\n",
      " 0.88347071 0.84197461 0.8724537  0.88101393 0.87895383 0.87850599\n",
      " 0.87337501 0.86327925 0.89272189 0.90107744 0.89809603 0.89251714\n",
      " 0.90373889 0.89117361 0.90704012 0.91135226 0.89956752 0.91856895\n",
      " 0.92149913 0.93108307 0.92023238 0.92029636 0.919695   0.92639987\n",
      " 0.9285495  0.93336065 0.93632925 0.94770451 0.93249058 0.91426963\n",
      " 0.91465349 0.91740454 0.91604826 0.9085884  0.87432187 0.8599524\n",
      " 0.88167933 0.90006653 0.8959464  0.87947846 0.87899225 0.88280531\n",
      " 0.88871689 0.87909459 0.87799416 0.86196133 0.87057273 0.84989512\n",
      " 0.85309402 0.85146895 0.84462332 0.84376599 0.84536544 0.83561524\n",
      " 0.85475744 0.85404088 0.80622378 0.81416984 0.8215273  0.81289029\n",
      " 0.7820913  0.79726687 0.80605746 0.83521857 0.83242916 0.83008753\n",
      " 0.84743835 0.8518272  0.84947283 0.83200687 0.84261439 0.84848761\n",
      " 0.8312903  0.79538596 0.79306995 0.79198232 0.7755272  0.76193827\n",
      " 0.76795219 0.7934282  0.79624323 0.81821326 0.81419546 0.81972311\n",
      " 0.82060599 0.81353006 0.80754176 0.81982551 0.79933978 0.79454144\n",
      " 0.8059167  0.81285192 0.80711947 0.7683105  0.76086345 0.74910433\n",
      " 0.73886787 0.73780586 0.75543814 0.75818919 0.78136199 0.78456089\n",
      " 0.78294863 0.78186101 0.76884788 0.78751668 0.80585272 0.81644743\n",
      " 0.81565414 0.81386276 0.82606973 0.83002355 0.83260828 0.83501383\n",
      " 0.82984443 0.84731039 0.84194906 0.83968421 0.84183391 0.83675404\n",
      " 0.83790564 0.82992121 0.81202021 0.8045348  0.79502765 0.79605129\n",
      " 0.77310885 0.79322346 0.7728913  0.7725586  0.77332633 0.77170133\n",
      " 0.77747215 0.78260313 0.79488688 0.80136146 0.7978811  0.76999948\n",
      " 0.76589215 0.74141417 0.74655802 0.749501   0.73949484 0.74108148\n",
      " 0.73459416 0.73775463 0.7436534  0.74831098 0.73849681 0.74035217\n",
      " 0.73533627 0.76251407 0.76527793 0.75579639 0.76952608 0.75698642\n",
      " 0.76497085 0.76562343 0.76456136 0.76778587 0.77621815 0.7703706\n",
      " 0.77944266 0.77434998 0.78056864 0.72975451 0.67325228 0.62710708\n",
      " 0.59279662 0.57060456]\n",
      "5 day output [[0.55539626]]\n",
      "6 day input [0.95924608 0.96897072 0.98694851 1.         0.99269378 0.97325724\n",
      " 0.95071147 0.95249004 0.93658516 0.93621404 0.90533834 0.91577954\n",
      " 0.92760264 0.94408332 0.95829922 0.95021246 0.94773006 0.93854286\n",
      " 0.92944519 0.93382131 0.93632925 0.91703348 0.92696286 0.94847224\n",
      " 0.94726947 0.93987359 0.94235592 0.92329051 0.88925427 0.88347071\n",
      " 0.84197461 0.8724537  0.88101393 0.87895383 0.87850599 0.87337501\n",
      " 0.86327925 0.89272189 0.90107744 0.89809603 0.89251714 0.90373889\n",
      " 0.89117361 0.90704012 0.91135226 0.89956752 0.91856895 0.92149913\n",
      " 0.93108307 0.92023238 0.92029636 0.919695   0.92639987 0.9285495\n",
      " 0.93336065 0.93632925 0.94770451 0.93249058 0.91426963 0.91465349\n",
      " 0.91740454 0.91604826 0.9085884  0.87432187 0.8599524  0.88167933\n",
      " 0.90006653 0.8959464  0.87947846 0.87899225 0.88280531 0.88871689\n",
      " 0.87909459 0.87799416 0.86196133 0.87057273 0.84989512 0.85309402\n",
      " 0.85146895 0.84462332 0.84376599 0.84536544 0.83561524 0.85475744\n",
      " 0.85404088 0.80622378 0.81416984 0.8215273  0.81289029 0.7820913\n",
      " 0.79726687 0.80605746 0.83521857 0.83242916 0.83008753 0.84743835\n",
      " 0.8518272  0.84947283 0.83200687 0.84261439 0.84848761 0.8312903\n",
      " 0.79538596 0.79306995 0.79198232 0.7755272  0.76193827 0.76795219\n",
      " 0.7934282  0.79624323 0.81821326 0.81419546 0.81972311 0.82060599\n",
      " 0.81353006 0.80754176 0.81982551 0.79933978 0.79454144 0.8059167\n",
      " 0.81285192 0.80711947 0.7683105  0.76086345 0.74910433 0.73886787\n",
      " 0.73780586 0.75543814 0.75818919 0.78136199 0.78456089 0.78294863\n",
      " 0.78186101 0.76884788 0.78751668 0.80585272 0.81644743 0.81565414\n",
      " 0.81386276 0.82606973 0.83002355 0.83260828 0.83501383 0.82984443\n",
      " 0.84731039 0.84194906 0.83968421 0.84183391 0.83675404 0.83790564\n",
      " 0.82992121 0.81202021 0.8045348  0.79502765 0.79605129 0.77310885\n",
      " 0.79322346 0.7728913  0.7725586  0.77332633 0.77170133 0.77747215\n",
      " 0.78260313 0.79488688 0.80136146 0.7978811  0.76999948 0.76589215\n",
      " 0.74141417 0.74655802 0.749501   0.73949484 0.74108148 0.73459416\n",
      " 0.73775463 0.7436534  0.74831098 0.73849681 0.74035217 0.73533627\n",
      " 0.76251407 0.76527793 0.75579639 0.76952608 0.75698642 0.76497085\n",
      " 0.76562343 0.76456136 0.76778587 0.77621815 0.7703706  0.77944266\n",
      " 0.77434998 0.78056864 0.72975451 0.67325228 0.62710708 0.59279662\n",
      " 0.57060456 0.55539626]\n",
      "6 day output [[0.5428957]]\n",
      "7 day input [0.96897072 0.98694851 1.         0.99269378 0.97325724 0.95071147\n",
      " 0.95249004 0.93658516 0.93621404 0.90533834 0.91577954 0.92760264\n",
      " 0.94408332 0.95829922 0.95021246 0.94773006 0.93854286 0.92944519\n",
      " 0.93382131 0.93632925 0.91703348 0.92696286 0.94847224 0.94726947\n",
      " 0.93987359 0.94235592 0.92329051 0.88925427 0.88347071 0.84197461\n",
      " 0.8724537  0.88101393 0.87895383 0.87850599 0.87337501 0.86327925\n",
      " 0.89272189 0.90107744 0.89809603 0.89251714 0.90373889 0.89117361\n",
      " 0.90704012 0.91135226 0.89956752 0.91856895 0.92149913 0.93108307\n",
      " 0.92023238 0.92029636 0.919695   0.92639987 0.9285495  0.93336065\n",
      " 0.93632925 0.94770451 0.93249058 0.91426963 0.91465349 0.91740454\n",
      " 0.91604826 0.9085884  0.87432187 0.8599524  0.88167933 0.90006653\n",
      " 0.8959464  0.87947846 0.87899225 0.88280531 0.88871689 0.87909459\n",
      " 0.87799416 0.86196133 0.87057273 0.84989512 0.85309402 0.85146895\n",
      " 0.84462332 0.84376599 0.84536544 0.83561524 0.85475744 0.85404088\n",
      " 0.80622378 0.81416984 0.8215273  0.81289029 0.7820913  0.79726687\n",
      " 0.80605746 0.83521857 0.83242916 0.83008753 0.84743835 0.8518272\n",
      " 0.84947283 0.83200687 0.84261439 0.84848761 0.8312903  0.79538596\n",
      " 0.79306995 0.79198232 0.7755272  0.76193827 0.76795219 0.7934282\n",
      " 0.79624323 0.81821326 0.81419546 0.81972311 0.82060599 0.81353006\n",
      " 0.80754176 0.81982551 0.79933978 0.79454144 0.8059167  0.81285192\n",
      " 0.80711947 0.7683105  0.76086345 0.74910433 0.73886787 0.73780586\n",
      " 0.75543814 0.75818919 0.78136199 0.78456089 0.78294863 0.78186101\n",
      " 0.76884788 0.78751668 0.80585272 0.81644743 0.81565414 0.81386276\n",
      " 0.82606973 0.83002355 0.83260828 0.83501383 0.82984443 0.84731039\n",
      " 0.84194906 0.83968421 0.84183391 0.83675404 0.83790564 0.82992121\n",
      " 0.81202021 0.8045348  0.79502765 0.79605129 0.77310885 0.79322346\n",
      " 0.7728913  0.7725586  0.77332633 0.77170133 0.77747215 0.78260313\n",
      " 0.79488688 0.80136146 0.7978811  0.76999948 0.76589215 0.74141417\n",
      " 0.74655802 0.749501   0.73949484 0.74108148 0.73459416 0.73775463\n",
      " 0.7436534  0.74831098 0.73849681 0.74035217 0.73533627 0.76251407\n",
      " 0.76527793 0.75579639 0.76952608 0.75698642 0.76497085 0.76562343\n",
      " 0.76456136 0.76778587 0.77621815 0.7703706  0.77944266 0.77434998\n",
      " 0.78056864 0.72975451 0.67325228 0.62710708 0.59279662 0.57060456\n",
      " 0.55539626 0.54289567]\n",
      "7 day output [[0.5306386]]\n",
      "8 day input [0.98694851 1.         0.99269378 0.97325724 0.95071147 0.95249004\n",
      " 0.93658516 0.93621404 0.90533834 0.91577954 0.92760264 0.94408332\n",
      " 0.95829922 0.95021246 0.94773006 0.93854286 0.92944519 0.93382131\n",
      " 0.93632925 0.91703348 0.92696286 0.94847224 0.94726947 0.93987359\n",
      " 0.94235592 0.92329051 0.88925427 0.88347071 0.84197461 0.8724537\n",
      " 0.88101393 0.87895383 0.87850599 0.87337501 0.86327925 0.89272189\n",
      " 0.90107744 0.89809603 0.89251714 0.90373889 0.89117361 0.90704012\n",
      " 0.91135226 0.89956752 0.91856895 0.92149913 0.93108307 0.92023238\n",
      " 0.92029636 0.919695   0.92639987 0.9285495  0.93336065 0.93632925\n",
      " 0.94770451 0.93249058 0.91426963 0.91465349 0.91740454 0.91604826\n",
      " 0.9085884  0.87432187 0.8599524  0.88167933 0.90006653 0.8959464\n",
      " 0.87947846 0.87899225 0.88280531 0.88871689 0.87909459 0.87799416\n",
      " 0.86196133 0.87057273 0.84989512 0.85309402 0.85146895 0.84462332\n",
      " 0.84376599 0.84536544 0.83561524 0.85475744 0.85404088 0.80622378\n",
      " 0.81416984 0.8215273  0.81289029 0.7820913  0.79726687 0.80605746\n",
      " 0.83521857 0.83242916 0.83008753 0.84743835 0.8518272  0.84947283\n",
      " 0.83200687 0.84261439 0.84848761 0.8312903  0.79538596 0.79306995\n",
      " 0.79198232 0.7755272  0.76193827 0.76795219 0.7934282  0.79624323\n",
      " 0.81821326 0.81419546 0.81972311 0.82060599 0.81353006 0.80754176\n",
      " 0.81982551 0.79933978 0.79454144 0.8059167  0.81285192 0.80711947\n",
      " 0.7683105  0.76086345 0.74910433 0.73886787 0.73780586 0.75543814\n",
      " 0.75818919 0.78136199 0.78456089 0.78294863 0.78186101 0.76884788\n",
      " 0.78751668 0.80585272 0.81644743 0.81565414 0.81386276 0.82606973\n",
      " 0.83002355 0.83260828 0.83501383 0.82984443 0.84731039 0.84194906\n",
      " 0.83968421 0.84183391 0.83675404 0.83790564 0.82992121 0.81202021\n",
      " 0.8045348  0.79502765 0.79605129 0.77310885 0.79322346 0.7728913\n",
      " 0.7725586  0.77332633 0.77170133 0.77747215 0.78260313 0.79488688\n",
      " 0.80136146 0.7978811  0.76999948 0.76589215 0.74141417 0.74655802\n",
      " 0.749501   0.73949484 0.74108148 0.73459416 0.73775463 0.7436534\n",
      " 0.74831098 0.73849681 0.74035217 0.73533627 0.76251407 0.76527793\n",
      " 0.75579639 0.76952608 0.75698642 0.76497085 0.76562343 0.76456136\n",
      " 0.76778587 0.77621815 0.7703706  0.77944266 0.77434998 0.78056864\n",
      " 0.72975451 0.67325228 0.62710708 0.59279662 0.57060456 0.55539626\n",
      " 0.54289567 0.53063858]\n",
      "8 day output [[0.51792455]]\n",
      "9 day input [1.         0.99269378 0.97325724 0.95071147 0.95249004 0.93658516\n",
      " 0.93621404 0.90533834 0.91577954 0.92760264 0.94408332 0.95829922\n",
      " 0.95021246 0.94773006 0.93854286 0.92944519 0.93382131 0.93632925\n",
      " 0.91703348 0.92696286 0.94847224 0.94726947 0.93987359 0.94235592\n",
      " 0.92329051 0.88925427 0.88347071 0.84197461 0.8724537  0.88101393\n",
      " 0.87895383 0.87850599 0.87337501 0.86327925 0.89272189 0.90107744\n",
      " 0.89809603 0.89251714 0.90373889 0.89117361 0.90704012 0.91135226\n",
      " 0.89956752 0.91856895 0.92149913 0.93108307 0.92023238 0.92029636\n",
      " 0.919695   0.92639987 0.9285495  0.93336065 0.93632925 0.94770451\n",
      " 0.93249058 0.91426963 0.91465349 0.91740454 0.91604826 0.9085884\n",
      " 0.87432187 0.8599524  0.88167933 0.90006653 0.8959464  0.87947846\n",
      " 0.87899225 0.88280531 0.88871689 0.87909459 0.87799416 0.86196133\n",
      " 0.87057273 0.84989512 0.85309402 0.85146895 0.84462332 0.84376599\n",
      " 0.84536544 0.83561524 0.85475744 0.85404088 0.80622378 0.81416984\n",
      " 0.8215273  0.81289029 0.7820913  0.79726687 0.80605746 0.83521857\n",
      " 0.83242916 0.83008753 0.84743835 0.8518272  0.84947283 0.83200687\n",
      " 0.84261439 0.84848761 0.8312903  0.79538596 0.79306995 0.79198232\n",
      " 0.7755272  0.76193827 0.76795219 0.7934282  0.79624323 0.81821326\n",
      " 0.81419546 0.81972311 0.82060599 0.81353006 0.80754176 0.81982551\n",
      " 0.79933978 0.79454144 0.8059167  0.81285192 0.80711947 0.7683105\n",
      " 0.76086345 0.74910433 0.73886787 0.73780586 0.75543814 0.75818919\n",
      " 0.78136199 0.78456089 0.78294863 0.78186101 0.76884788 0.78751668\n",
      " 0.80585272 0.81644743 0.81565414 0.81386276 0.82606973 0.83002355\n",
      " 0.83260828 0.83501383 0.82984443 0.84731039 0.84194906 0.83968421\n",
      " 0.84183391 0.83675404 0.83790564 0.82992121 0.81202021 0.8045348\n",
      " 0.79502765 0.79605129 0.77310885 0.79322346 0.7728913  0.7725586\n",
      " 0.77332633 0.77170133 0.77747215 0.78260313 0.79488688 0.80136146\n",
      " 0.7978811  0.76999948 0.76589215 0.74141417 0.74655802 0.749501\n",
      " 0.73949484 0.74108148 0.73459416 0.73775463 0.7436534  0.74831098\n",
      " 0.73849681 0.74035217 0.73533627 0.76251407 0.76527793 0.75579639\n",
      " 0.76952608 0.75698642 0.76497085 0.76562343 0.76456136 0.76778587\n",
      " 0.77621815 0.7703706  0.77944266 0.77434998 0.78056864 0.72975451\n",
      " 0.67325228 0.62710708 0.59279662 0.57060456 0.55539626 0.54289567\n",
      " 0.53063858 0.51792455]\n",
      "9 day output [[0.5051308]]\n",
      "10 day input [0.99269378 0.97325724 0.95071147 0.95249004 0.93658516 0.93621404\n",
      " 0.90533834 0.91577954 0.92760264 0.94408332 0.95829922 0.95021246\n",
      " 0.94773006 0.93854286 0.92944519 0.93382131 0.93632925 0.91703348\n",
      " 0.92696286 0.94847224 0.94726947 0.93987359 0.94235592 0.92329051\n",
      " 0.88925427 0.88347071 0.84197461 0.8724537  0.88101393 0.87895383\n",
      " 0.87850599 0.87337501 0.86327925 0.89272189 0.90107744 0.89809603\n",
      " 0.89251714 0.90373889 0.89117361 0.90704012 0.91135226 0.89956752\n",
      " 0.91856895 0.92149913 0.93108307 0.92023238 0.92029636 0.919695\n",
      " 0.92639987 0.9285495  0.93336065 0.93632925 0.94770451 0.93249058\n",
      " 0.91426963 0.91465349 0.91740454 0.91604826 0.9085884  0.87432187\n",
      " 0.8599524  0.88167933 0.90006653 0.8959464  0.87947846 0.87899225\n",
      " 0.88280531 0.88871689 0.87909459 0.87799416 0.86196133 0.87057273\n",
      " 0.84989512 0.85309402 0.85146895 0.84462332 0.84376599 0.84536544\n",
      " 0.83561524 0.85475744 0.85404088 0.80622378 0.81416984 0.8215273\n",
      " 0.81289029 0.7820913  0.79726687 0.80605746 0.83521857 0.83242916\n",
      " 0.83008753 0.84743835 0.8518272  0.84947283 0.83200687 0.84261439\n",
      " 0.84848761 0.8312903  0.79538596 0.79306995 0.79198232 0.7755272\n",
      " 0.76193827 0.76795219 0.7934282  0.79624323 0.81821326 0.81419546\n",
      " 0.81972311 0.82060599 0.81353006 0.80754176 0.81982551 0.79933978\n",
      " 0.79454144 0.8059167  0.81285192 0.80711947 0.7683105  0.76086345\n",
      " 0.74910433 0.73886787 0.73780586 0.75543814 0.75818919 0.78136199\n",
      " 0.78456089 0.78294863 0.78186101 0.76884788 0.78751668 0.80585272\n",
      " 0.81644743 0.81565414 0.81386276 0.82606973 0.83002355 0.83260828\n",
      " 0.83501383 0.82984443 0.84731039 0.84194906 0.83968421 0.84183391\n",
      " 0.83675404 0.83790564 0.82992121 0.81202021 0.8045348  0.79502765\n",
      " 0.79605129 0.77310885 0.79322346 0.7728913  0.7725586  0.77332633\n",
      " 0.77170133 0.77747215 0.78260313 0.79488688 0.80136146 0.7978811\n",
      " 0.76999948 0.76589215 0.74141417 0.74655802 0.749501   0.73949484\n",
      " 0.74108148 0.73459416 0.73775463 0.7436534  0.74831098 0.73849681\n",
      " 0.74035217 0.73533627 0.76251407 0.76527793 0.75579639 0.76952608\n",
      " 0.75698642 0.76497085 0.76562343 0.76456136 0.76778587 0.77621815\n",
      " 0.7703706  0.77944266 0.77434998 0.78056864 0.72975451 0.67325228\n",
      " 0.62710708 0.59279662 0.57060456 0.55539626 0.54289567 0.53063858\n",
      " 0.51792455 0.50513083]\n",
      "10 day output [[0.49303162]]\n",
      "11 day input [0.97325724 0.95071147 0.95249004 0.93658516 0.93621404 0.90533834\n",
      " 0.91577954 0.92760264 0.94408332 0.95829922 0.95021246 0.94773006\n",
      " 0.93854286 0.92944519 0.93382131 0.93632925 0.91703348 0.92696286\n",
      " 0.94847224 0.94726947 0.93987359 0.94235592 0.92329051 0.88925427\n",
      " 0.88347071 0.84197461 0.8724537  0.88101393 0.87895383 0.87850599\n",
      " 0.87337501 0.86327925 0.89272189 0.90107744 0.89809603 0.89251714\n",
      " 0.90373889 0.89117361 0.90704012 0.91135226 0.89956752 0.91856895\n",
      " 0.92149913 0.93108307 0.92023238 0.92029636 0.919695   0.92639987\n",
      " 0.9285495  0.93336065 0.93632925 0.94770451 0.93249058 0.91426963\n",
      " 0.91465349 0.91740454 0.91604826 0.9085884  0.87432187 0.8599524\n",
      " 0.88167933 0.90006653 0.8959464  0.87947846 0.87899225 0.88280531\n",
      " 0.88871689 0.87909459 0.87799416 0.86196133 0.87057273 0.84989512\n",
      " 0.85309402 0.85146895 0.84462332 0.84376599 0.84536544 0.83561524\n",
      " 0.85475744 0.85404088 0.80622378 0.81416984 0.8215273  0.81289029\n",
      " 0.7820913  0.79726687 0.80605746 0.83521857 0.83242916 0.83008753\n",
      " 0.84743835 0.8518272  0.84947283 0.83200687 0.84261439 0.84848761\n",
      " 0.8312903  0.79538596 0.79306995 0.79198232 0.7755272  0.76193827\n",
      " 0.76795219 0.7934282  0.79624323 0.81821326 0.81419546 0.81972311\n",
      " 0.82060599 0.81353006 0.80754176 0.81982551 0.79933978 0.79454144\n",
      " 0.8059167  0.81285192 0.80711947 0.7683105  0.76086345 0.74910433\n",
      " 0.73886787 0.73780586 0.75543814 0.75818919 0.78136199 0.78456089\n",
      " 0.78294863 0.78186101 0.76884788 0.78751668 0.80585272 0.81644743\n",
      " 0.81565414 0.81386276 0.82606973 0.83002355 0.83260828 0.83501383\n",
      " 0.82984443 0.84731039 0.84194906 0.83968421 0.84183391 0.83675404\n",
      " 0.83790564 0.82992121 0.81202021 0.8045348  0.79502765 0.79605129\n",
      " 0.77310885 0.79322346 0.7728913  0.7725586  0.77332633 0.77170133\n",
      " 0.77747215 0.78260313 0.79488688 0.80136146 0.7978811  0.76999948\n",
      " 0.76589215 0.74141417 0.74655802 0.749501   0.73949484 0.74108148\n",
      " 0.73459416 0.73775463 0.7436534  0.74831098 0.73849681 0.74035217\n",
      " 0.73533627 0.76251407 0.76527793 0.75579639 0.76952608 0.75698642\n",
      " 0.76497085 0.76562343 0.76456136 0.76778587 0.77621815 0.7703706\n",
      " 0.77944266 0.77434998 0.78056864 0.72975451 0.67325228 0.62710708\n",
      " 0.59279662 0.57060456 0.55539626 0.54289567 0.53063858 0.51792455\n",
      " 0.50513083 0.49303162]\n",
      "11 day output [[0.48232797]]\n",
      "12 day input [0.95071147 0.95249004 0.93658516 0.93621404 0.90533834 0.91577954\n",
      " 0.92760264 0.94408332 0.95829922 0.95021246 0.94773006 0.93854286\n",
      " 0.92944519 0.93382131 0.93632925 0.91703348 0.92696286 0.94847224\n",
      " 0.94726947 0.93987359 0.94235592 0.92329051 0.88925427 0.88347071\n",
      " 0.84197461 0.8724537  0.88101393 0.87895383 0.87850599 0.87337501\n",
      " 0.86327925 0.89272189 0.90107744 0.89809603 0.89251714 0.90373889\n",
      " 0.89117361 0.90704012 0.91135226 0.89956752 0.91856895 0.92149913\n",
      " 0.93108307 0.92023238 0.92029636 0.919695   0.92639987 0.9285495\n",
      " 0.93336065 0.93632925 0.94770451 0.93249058 0.91426963 0.91465349\n",
      " 0.91740454 0.91604826 0.9085884  0.87432187 0.8599524  0.88167933\n",
      " 0.90006653 0.8959464  0.87947846 0.87899225 0.88280531 0.88871689\n",
      " 0.87909459 0.87799416 0.86196133 0.87057273 0.84989512 0.85309402\n",
      " 0.85146895 0.84462332 0.84376599 0.84536544 0.83561524 0.85475744\n",
      " 0.85404088 0.80622378 0.81416984 0.8215273  0.81289029 0.7820913\n",
      " 0.79726687 0.80605746 0.83521857 0.83242916 0.83008753 0.84743835\n",
      " 0.8518272  0.84947283 0.83200687 0.84261439 0.84848761 0.8312903\n",
      " 0.79538596 0.79306995 0.79198232 0.7755272  0.76193827 0.76795219\n",
      " 0.7934282  0.79624323 0.81821326 0.81419546 0.81972311 0.82060599\n",
      " 0.81353006 0.80754176 0.81982551 0.79933978 0.79454144 0.8059167\n",
      " 0.81285192 0.80711947 0.7683105  0.76086345 0.74910433 0.73886787\n",
      " 0.73780586 0.75543814 0.75818919 0.78136199 0.78456089 0.78294863\n",
      " 0.78186101 0.76884788 0.78751668 0.80585272 0.81644743 0.81565414\n",
      " 0.81386276 0.82606973 0.83002355 0.83260828 0.83501383 0.82984443\n",
      " 0.84731039 0.84194906 0.83968421 0.84183391 0.83675404 0.83790564\n",
      " 0.82992121 0.81202021 0.8045348  0.79502765 0.79605129 0.77310885\n",
      " 0.79322346 0.7728913  0.7725586  0.77332633 0.77170133 0.77747215\n",
      " 0.78260313 0.79488688 0.80136146 0.7978811  0.76999948 0.76589215\n",
      " 0.74141417 0.74655802 0.749501   0.73949484 0.74108148 0.73459416\n",
      " 0.73775463 0.7436534  0.74831098 0.73849681 0.74035217 0.73533627\n",
      " 0.76251407 0.76527793 0.75579639 0.76952608 0.75698642 0.76497085\n",
      " 0.76562343 0.76456136 0.76778587 0.77621815 0.7703706  0.77944266\n",
      " 0.77434998 0.78056864 0.72975451 0.67325228 0.62710708 0.59279662\n",
      " 0.57060456 0.55539626 0.54289567 0.53063858 0.51792455 0.50513083\n",
      " 0.49303162 0.48232797]\n",
      "12 day output [[0.4734273]]\n",
      "13 day input [0.95249004 0.93658516 0.93621404 0.90533834 0.91577954 0.92760264\n",
      " 0.94408332 0.95829922 0.95021246 0.94773006 0.93854286 0.92944519\n",
      " 0.93382131 0.93632925 0.91703348 0.92696286 0.94847224 0.94726947\n",
      " 0.93987359 0.94235592 0.92329051 0.88925427 0.88347071 0.84197461\n",
      " 0.8724537  0.88101393 0.87895383 0.87850599 0.87337501 0.86327925\n",
      " 0.89272189 0.90107744 0.89809603 0.89251714 0.90373889 0.89117361\n",
      " 0.90704012 0.91135226 0.89956752 0.91856895 0.92149913 0.93108307\n",
      " 0.92023238 0.92029636 0.919695   0.92639987 0.9285495  0.93336065\n",
      " 0.93632925 0.94770451 0.93249058 0.91426963 0.91465349 0.91740454\n",
      " 0.91604826 0.9085884  0.87432187 0.8599524  0.88167933 0.90006653\n",
      " 0.8959464  0.87947846 0.87899225 0.88280531 0.88871689 0.87909459\n",
      " 0.87799416 0.86196133 0.87057273 0.84989512 0.85309402 0.85146895\n",
      " 0.84462332 0.84376599 0.84536544 0.83561524 0.85475744 0.85404088\n",
      " 0.80622378 0.81416984 0.8215273  0.81289029 0.7820913  0.79726687\n",
      " 0.80605746 0.83521857 0.83242916 0.83008753 0.84743835 0.8518272\n",
      " 0.84947283 0.83200687 0.84261439 0.84848761 0.8312903  0.79538596\n",
      " 0.79306995 0.79198232 0.7755272  0.76193827 0.76795219 0.7934282\n",
      " 0.79624323 0.81821326 0.81419546 0.81972311 0.82060599 0.81353006\n",
      " 0.80754176 0.81982551 0.79933978 0.79454144 0.8059167  0.81285192\n",
      " 0.80711947 0.7683105  0.76086345 0.74910433 0.73886787 0.73780586\n",
      " 0.75543814 0.75818919 0.78136199 0.78456089 0.78294863 0.78186101\n",
      " 0.76884788 0.78751668 0.80585272 0.81644743 0.81565414 0.81386276\n",
      " 0.82606973 0.83002355 0.83260828 0.83501383 0.82984443 0.84731039\n",
      " 0.84194906 0.83968421 0.84183391 0.83675404 0.83790564 0.82992121\n",
      " 0.81202021 0.8045348  0.79502765 0.79605129 0.77310885 0.79322346\n",
      " 0.7728913  0.7725586  0.77332633 0.77170133 0.77747215 0.78260313\n",
      " 0.79488688 0.80136146 0.7978811  0.76999948 0.76589215 0.74141417\n",
      " 0.74655802 0.749501   0.73949484 0.74108148 0.73459416 0.73775463\n",
      " 0.7436534  0.74831098 0.73849681 0.74035217 0.73533627 0.76251407\n",
      " 0.76527793 0.75579639 0.76952608 0.75698642 0.76497085 0.76562343\n",
      " 0.76456136 0.76778587 0.77621815 0.7703706  0.77944266 0.77434998\n",
      " 0.78056864 0.72975451 0.67325228 0.62710708 0.59279662 0.57060456\n",
      " 0.55539626 0.54289567 0.53063858 0.51792455 0.50513083 0.49303162\n",
      " 0.48232797 0.4734273 ]\n",
      "13 day output [[0.4664138]]\n",
      "14 day input [0.93658516 0.93621404 0.90533834 0.91577954 0.92760264 0.94408332\n",
      " 0.95829922 0.95021246 0.94773006 0.93854286 0.92944519 0.93382131\n",
      " 0.93632925 0.91703348 0.92696286 0.94847224 0.94726947 0.93987359\n",
      " 0.94235592 0.92329051 0.88925427 0.88347071 0.84197461 0.8724537\n",
      " 0.88101393 0.87895383 0.87850599 0.87337501 0.86327925 0.89272189\n",
      " 0.90107744 0.89809603 0.89251714 0.90373889 0.89117361 0.90704012\n",
      " 0.91135226 0.89956752 0.91856895 0.92149913 0.93108307 0.92023238\n",
      " 0.92029636 0.919695   0.92639987 0.9285495  0.93336065 0.93632925\n",
      " 0.94770451 0.93249058 0.91426963 0.91465349 0.91740454 0.91604826\n",
      " 0.9085884  0.87432187 0.8599524  0.88167933 0.90006653 0.8959464\n",
      " 0.87947846 0.87899225 0.88280531 0.88871689 0.87909459 0.87799416\n",
      " 0.86196133 0.87057273 0.84989512 0.85309402 0.85146895 0.84462332\n",
      " 0.84376599 0.84536544 0.83561524 0.85475744 0.85404088 0.80622378\n",
      " 0.81416984 0.8215273  0.81289029 0.7820913  0.79726687 0.80605746\n",
      " 0.83521857 0.83242916 0.83008753 0.84743835 0.8518272  0.84947283\n",
      " 0.83200687 0.84261439 0.84848761 0.8312903  0.79538596 0.79306995\n",
      " 0.79198232 0.7755272  0.76193827 0.76795219 0.7934282  0.79624323\n",
      " 0.81821326 0.81419546 0.81972311 0.82060599 0.81353006 0.80754176\n",
      " 0.81982551 0.79933978 0.79454144 0.8059167  0.81285192 0.80711947\n",
      " 0.7683105  0.76086345 0.74910433 0.73886787 0.73780586 0.75543814\n",
      " 0.75818919 0.78136199 0.78456089 0.78294863 0.78186101 0.76884788\n",
      " 0.78751668 0.80585272 0.81644743 0.81565414 0.81386276 0.82606973\n",
      " 0.83002355 0.83260828 0.83501383 0.82984443 0.84731039 0.84194906\n",
      " 0.83968421 0.84183391 0.83675404 0.83790564 0.82992121 0.81202021\n",
      " 0.8045348  0.79502765 0.79605129 0.77310885 0.79322346 0.7728913\n",
      " 0.7725586  0.77332633 0.77170133 0.77747215 0.78260313 0.79488688\n",
      " 0.80136146 0.7978811  0.76999948 0.76589215 0.74141417 0.74655802\n",
      " 0.749501   0.73949484 0.74108148 0.73459416 0.73775463 0.7436534\n",
      " 0.74831098 0.73849681 0.74035217 0.73533627 0.76251407 0.76527793\n",
      " 0.75579639 0.76952608 0.75698642 0.76497085 0.76562343 0.76456136\n",
      " 0.76778587 0.77621815 0.7703706  0.77944266 0.77434998 0.78056864\n",
      " 0.72975451 0.67325228 0.62710708 0.59279662 0.57060456 0.55539626\n",
      " 0.54289567 0.53063858 0.51792455 0.50513083 0.49303162 0.48232797\n",
      " 0.4734273  0.4664138 ]\n",
      "14 day output [[0.4611236]]\n",
      "15 day input [0.93621404 0.90533834 0.91577954 0.92760264 0.94408332 0.95829922\n",
      " 0.95021246 0.94773006 0.93854286 0.92944519 0.93382131 0.93632925\n",
      " 0.91703348 0.92696286 0.94847224 0.94726947 0.93987359 0.94235592\n",
      " 0.92329051 0.88925427 0.88347071 0.84197461 0.8724537  0.88101393\n",
      " 0.87895383 0.87850599 0.87337501 0.86327925 0.89272189 0.90107744\n",
      " 0.89809603 0.89251714 0.90373889 0.89117361 0.90704012 0.91135226\n",
      " 0.89956752 0.91856895 0.92149913 0.93108307 0.92023238 0.92029636\n",
      " 0.919695   0.92639987 0.9285495  0.93336065 0.93632925 0.94770451\n",
      " 0.93249058 0.91426963 0.91465349 0.91740454 0.91604826 0.9085884\n",
      " 0.87432187 0.8599524  0.88167933 0.90006653 0.8959464  0.87947846\n",
      " 0.87899225 0.88280531 0.88871689 0.87909459 0.87799416 0.86196133\n",
      " 0.87057273 0.84989512 0.85309402 0.85146895 0.84462332 0.84376599\n",
      " 0.84536544 0.83561524 0.85475744 0.85404088 0.80622378 0.81416984\n",
      " 0.8215273  0.81289029 0.7820913  0.79726687 0.80605746 0.83521857\n",
      " 0.83242916 0.83008753 0.84743835 0.8518272  0.84947283 0.83200687\n",
      " 0.84261439 0.84848761 0.8312903  0.79538596 0.79306995 0.79198232\n",
      " 0.7755272  0.76193827 0.76795219 0.7934282  0.79624323 0.81821326\n",
      " 0.81419546 0.81972311 0.82060599 0.81353006 0.80754176 0.81982551\n",
      " 0.79933978 0.79454144 0.8059167  0.81285192 0.80711947 0.7683105\n",
      " 0.76086345 0.74910433 0.73886787 0.73780586 0.75543814 0.75818919\n",
      " 0.78136199 0.78456089 0.78294863 0.78186101 0.76884788 0.78751668\n",
      " 0.80585272 0.81644743 0.81565414 0.81386276 0.82606973 0.83002355\n",
      " 0.83260828 0.83501383 0.82984443 0.84731039 0.84194906 0.83968421\n",
      " 0.84183391 0.83675404 0.83790564 0.82992121 0.81202021 0.8045348\n",
      " 0.79502765 0.79605129 0.77310885 0.79322346 0.7728913  0.7725586\n",
      " 0.77332633 0.77170133 0.77747215 0.78260313 0.79488688 0.80136146\n",
      " 0.7978811  0.76999948 0.76589215 0.74141417 0.74655802 0.749501\n",
      " 0.73949484 0.74108148 0.73459416 0.73775463 0.7436534  0.74831098\n",
      " 0.73849681 0.74035217 0.73533627 0.76251407 0.76527793 0.75579639\n",
      " 0.76952608 0.75698642 0.76497085 0.76562343 0.76456136 0.76778587\n",
      " 0.77621815 0.7703706  0.77944266 0.77434998 0.78056864 0.72975451\n",
      " 0.67325228 0.62710708 0.59279662 0.57060456 0.55539626 0.54289567\n",
      " 0.53063858 0.51792455 0.50513083 0.49303162 0.48232797 0.4734273\n",
      " 0.4664138  0.46112359]\n",
      "15 day output [[0.45725194]]\n",
      "16 day input [0.90533834 0.91577954 0.92760264 0.94408332 0.95829922 0.95021246\n",
      " 0.94773006 0.93854286 0.92944519 0.93382131 0.93632925 0.91703348\n",
      " 0.92696286 0.94847224 0.94726947 0.93987359 0.94235592 0.92329051\n",
      " 0.88925427 0.88347071 0.84197461 0.8724537  0.88101393 0.87895383\n",
      " 0.87850599 0.87337501 0.86327925 0.89272189 0.90107744 0.89809603\n",
      " 0.89251714 0.90373889 0.89117361 0.90704012 0.91135226 0.89956752\n",
      " 0.91856895 0.92149913 0.93108307 0.92023238 0.92029636 0.919695\n",
      " 0.92639987 0.9285495  0.93336065 0.93632925 0.94770451 0.93249058\n",
      " 0.91426963 0.91465349 0.91740454 0.91604826 0.9085884  0.87432187\n",
      " 0.8599524  0.88167933 0.90006653 0.8959464  0.87947846 0.87899225\n",
      " 0.88280531 0.88871689 0.87909459 0.87799416 0.86196133 0.87057273\n",
      " 0.84989512 0.85309402 0.85146895 0.84462332 0.84376599 0.84536544\n",
      " 0.83561524 0.85475744 0.85404088 0.80622378 0.81416984 0.8215273\n",
      " 0.81289029 0.7820913  0.79726687 0.80605746 0.83521857 0.83242916\n",
      " 0.83008753 0.84743835 0.8518272  0.84947283 0.83200687 0.84261439\n",
      " 0.84848761 0.8312903  0.79538596 0.79306995 0.79198232 0.7755272\n",
      " 0.76193827 0.76795219 0.7934282  0.79624323 0.81821326 0.81419546\n",
      " 0.81972311 0.82060599 0.81353006 0.80754176 0.81982551 0.79933978\n",
      " 0.79454144 0.8059167  0.81285192 0.80711947 0.7683105  0.76086345\n",
      " 0.74910433 0.73886787 0.73780586 0.75543814 0.75818919 0.78136199\n",
      " 0.78456089 0.78294863 0.78186101 0.76884788 0.78751668 0.80585272\n",
      " 0.81644743 0.81565414 0.81386276 0.82606973 0.83002355 0.83260828\n",
      " 0.83501383 0.82984443 0.84731039 0.84194906 0.83968421 0.84183391\n",
      " 0.83675404 0.83790564 0.82992121 0.81202021 0.8045348  0.79502765\n",
      " 0.79605129 0.77310885 0.79322346 0.7728913  0.7725586  0.77332633\n",
      " 0.77170133 0.77747215 0.78260313 0.79488688 0.80136146 0.7978811\n",
      " 0.76999948 0.76589215 0.74141417 0.74655802 0.749501   0.73949484\n",
      " 0.74108148 0.73459416 0.73775463 0.7436534  0.74831098 0.73849681\n",
      " 0.74035217 0.73533627 0.76251407 0.76527793 0.75579639 0.76952608\n",
      " 0.75698642 0.76497085 0.76562343 0.76456136 0.76778587 0.77621815\n",
      " 0.7703706  0.77944266 0.77434998 0.78056864 0.72975451 0.67325228\n",
      " 0.62710708 0.59279662 0.57060456 0.55539626 0.54289567 0.53063858\n",
      " 0.51792455 0.50513083 0.49303162 0.48232797 0.4734273  0.4664138\n",
      " 0.46112359 0.45725194]\n",
      "16 day output [[0.45444837]]\n",
      "17 day input [0.91577954 0.92760264 0.94408332 0.95829922 0.95021246 0.94773006\n",
      " 0.93854286 0.92944519 0.93382131 0.93632925 0.91703348 0.92696286\n",
      " 0.94847224 0.94726947 0.93987359 0.94235592 0.92329051 0.88925427\n",
      " 0.88347071 0.84197461 0.8724537  0.88101393 0.87895383 0.87850599\n",
      " 0.87337501 0.86327925 0.89272189 0.90107744 0.89809603 0.89251714\n",
      " 0.90373889 0.89117361 0.90704012 0.91135226 0.89956752 0.91856895\n",
      " 0.92149913 0.93108307 0.92023238 0.92029636 0.919695   0.92639987\n",
      " 0.9285495  0.93336065 0.93632925 0.94770451 0.93249058 0.91426963\n",
      " 0.91465349 0.91740454 0.91604826 0.9085884  0.87432187 0.8599524\n",
      " 0.88167933 0.90006653 0.8959464  0.87947846 0.87899225 0.88280531\n",
      " 0.88871689 0.87909459 0.87799416 0.86196133 0.87057273 0.84989512\n",
      " 0.85309402 0.85146895 0.84462332 0.84376599 0.84536544 0.83561524\n",
      " 0.85475744 0.85404088 0.80622378 0.81416984 0.8215273  0.81289029\n",
      " 0.7820913  0.79726687 0.80605746 0.83521857 0.83242916 0.83008753\n",
      " 0.84743835 0.8518272  0.84947283 0.83200687 0.84261439 0.84848761\n",
      " 0.8312903  0.79538596 0.79306995 0.79198232 0.7755272  0.76193827\n",
      " 0.76795219 0.7934282  0.79624323 0.81821326 0.81419546 0.81972311\n",
      " 0.82060599 0.81353006 0.80754176 0.81982551 0.79933978 0.79454144\n",
      " 0.8059167  0.81285192 0.80711947 0.7683105  0.76086345 0.74910433\n",
      " 0.73886787 0.73780586 0.75543814 0.75818919 0.78136199 0.78456089\n",
      " 0.78294863 0.78186101 0.76884788 0.78751668 0.80585272 0.81644743\n",
      " 0.81565414 0.81386276 0.82606973 0.83002355 0.83260828 0.83501383\n",
      " 0.82984443 0.84731039 0.84194906 0.83968421 0.84183391 0.83675404\n",
      " 0.83790564 0.82992121 0.81202021 0.8045348  0.79502765 0.79605129\n",
      " 0.77310885 0.79322346 0.7728913  0.7725586  0.77332633 0.77170133\n",
      " 0.77747215 0.78260313 0.79488688 0.80136146 0.7978811  0.76999948\n",
      " 0.76589215 0.74141417 0.74655802 0.749501   0.73949484 0.74108148\n",
      " 0.73459416 0.73775463 0.7436534  0.74831098 0.73849681 0.74035217\n",
      " 0.73533627 0.76251407 0.76527793 0.75579639 0.76952608 0.75698642\n",
      " 0.76497085 0.76562343 0.76456136 0.76778587 0.77621815 0.7703706\n",
      " 0.77944266 0.77434998 0.78056864 0.72975451 0.67325228 0.62710708\n",
      " 0.59279662 0.57060456 0.55539626 0.54289567 0.53063858 0.51792455\n",
      " 0.50513083 0.49303162 0.48232797 0.4734273  0.4664138  0.46112359\n",
      " 0.45725194 0.45444837]\n",
      "17 day output [[0.45238137]]\n",
      "18 day input [0.92760264 0.94408332 0.95829922 0.95021246 0.94773006 0.93854286\n",
      " 0.92944519 0.93382131 0.93632925 0.91703348 0.92696286 0.94847224\n",
      " 0.94726947 0.93987359 0.94235592 0.92329051 0.88925427 0.88347071\n",
      " 0.84197461 0.8724537  0.88101393 0.87895383 0.87850599 0.87337501\n",
      " 0.86327925 0.89272189 0.90107744 0.89809603 0.89251714 0.90373889\n",
      " 0.89117361 0.90704012 0.91135226 0.89956752 0.91856895 0.92149913\n",
      " 0.93108307 0.92023238 0.92029636 0.919695   0.92639987 0.9285495\n",
      " 0.93336065 0.93632925 0.94770451 0.93249058 0.91426963 0.91465349\n",
      " 0.91740454 0.91604826 0.9085884  0.87432187 0.8599524  0.88167933\n",
      " 0.90006653 0.8959464  0.87947846 0.87899225 0.88280531 0.88871689\n",
      " 0.87909459 0.87799416 0.86196133 0.87057273 0.84989512 0.85309402\n",
      " 0.85146895 0.84462332 0.84376599 0.84536544 0.83561524 0.85475744\n",
      " 0.85404088 0.80622378 0.81416984 0.8215273  0.81289029 0.7820913\n",
      " 0.79726687 0.80605746 0.83521857 0.83242916 0.83008753 0.84743835\n",
      " 0.8518272  0.84947283 0.83200687 0.84261439 0.84848761 0.8312903\n",
      " 0.79538596 0.79306995 0.79198232 0.7755272  0.76193827 0.76795219\n",
      " 0.7934282  0.79624323 0.81821326 0.81419546 0.81972311 0.82060599\n",
      " 0.81353006 0.80754176 0.81982551 0.79933978 0.79454144 0.8059167\n",
      " 0.81285192 0.80711947 0.7683105  0.76086345 0.74910433 0.73886787\n",
      " 0.73780586 0.75543814 0.75818919 0.78136199 0.78456089 0.78294863\n",
      " 0.78186101 0.76884788 0.78751668 0.80585272 0.81644743 0.81565414\n",
      " 0.81386276 0.82606973 0.83002355 0.83260828 0.83501383 0.82984443\n",
      " 0.84731039 0.84194906 0.83968421 0.84183391 0.83675404 0.83790564\n",
      " 0.82992121 0.81202021 0.8045348  0.79502765 0.79605129 0.77310885\n",
      " 0.79322346 0.7728913  0.7725586  0.77332633 0.77170133 0.77747215\n",
      " 0.78260313 0.79488688 0.80136146 0.7978811  0.76999948 0.76589215\n",
      " 0.74141417 0.74655802 0.749501   0.73949484 0.74108148 0.73459416\n",
      " 0.73775463 0.7436534  0.74831098 0.73849681 0.74035217 0.73533627\n",
      " 0.76251407 0.76527793 0.75579639 0.76952608 0.75698642 0.76497085\n",
      " 0.76562343 0.76456136 0.76778587 0.77621815 0.7703706  0.77944266\n",
      " 0.77434998 0.78056864 0.72975451 0.67325228 0.62710708 0.59279662\n",
      " 0.57060456 0.55539626 0.54289567 0.53063858 0.51792455 0.50513083\n",
      " 0.49303162 0.48232797 0.4734273  0.4664138  0.46112359 0.45725194\n",
      " 0.45444837 0.45238137]\n",
      "18 day output [[0.45076984]]\n",
      "19 day input [0.94408332 0.95829922 0.95021246 0.94773006 0.93854286 0.92944519\n",
      " 0.93382131 0.93632925 0.91703348 0.92696286 0.94847224 0.94726947\n",
      " 0.93987359 0.94235592 0.92329051 0.88925427 0.88347071 0.84197461\n",
      " 0.8724537  0.88101393 0.87895383 0.87850599 0.87337501 0.86327925\n",
      " 0.89272189 0.90107744 0.89809603 0.89251714 0.90373889 0.89117361\n",
      " 0.90704012 0.91135226 0.89956752 0.91856895 0.92149913 0.93108307\n",
      " 0.92023238 0.92029636 0.919695   0.92639987 0.9285495  0.93336065\n",
      " 0.93632925 0.94770451 0.93249058 0.91426963 0.91465349 0.91740454\n",
      " 0.91604826 0.9085884  0.87432187 0.8599524  0.88167933 0.90006653\n",
      " 0.8959464  0.87947846 0.87899225 0.88280531 0.88871689 0.87909459\n",
      " 0.87799416 0.86196133 0.87057273 0.84989512 0.85309402 0.85146895\n",
      " 0.84462332 0.84376599 0.84536544 0.83561524 0.85475744 0.85404088\n",
      " 0.80622378 0.81416984 0.8215273  0.81289029 0.7820913  0.79726687\n",
      " 0.80605746 0.83521857 0.83242916 0.83008753 0.84743835 0.8518272\n",
      " 0.84947283 0.83200687 0.84261439 0.84848761 0.8312903  0.79538596\n",
      " 0.79306995 0.79198232 0.7755272  0.76193827 0.76795219 0.7934282\n",
      " 0.79624323 0.81821326 0.81419546 0.81972311 0.82060599 0.81353006\n",
      " 0.80754176 0.81982551 0.79933978 0.79454144 0.8059167  0.81285192\n",
      " 0.80711947 0.7683105  0.76086345 0.74910433 0.73886787 0.73780586\n",
      " 0.75543814 0.75818919 0.78136199 0.78456089 0.78294863 0.78186101\n",
      " 0.76884788 0.78751668 0.80585272 0.81644743 0.81565414 0.81386276\n",
      " 0.82606973 0.83002355 0.83260828 0.83501383 0.82984443 0.84731039\n",
      " 0.84194906 0.83968421 0.84183391 0.83675404 0.83790564 0.82992121\n",
      " 0.81202021 0.8045348  0.79502765 0.79605129 0.77310885 0.79322346\n",
      " 0.7728913  0.7725586  0.77332633 0.77170133 0.77747215 0.78260313\n",
      " 0.79488688 0.80136146 0.7978811  0.76999948 0.76589215 0.74141417\n",
      " 0.74655802 0.749501   0.73949484 0.74108148 0.73459416 0.73775463\n",
      " 0.7436534  0.74831098 0.73849681 0.74035217 0.73533627 0.76251407\n",
      " 0.76527793 0.75579639 0.76952608 0.75698642 0.76497085 0.76562343\n",
      " 0.76456136 0.76778587 0.77621815 0.7703706  0.77944266 0.77434998\n",
      " 0.78056864 0.72975451 0.67325228 0.62710708 0.59279662 0.57060456\n",
      " 0.55539626 0.54289567 0.53063858 0.51792455 0.50513083 0.49303162\n",
      " 0.48232797 0.4734273  0.4664138  0.46112359 0.45725194 0.45444837\n",
      " 0.45238137 0.45076984]\n",
      "19 day output [[0.44939268]]\n",
      "20 day input [0.95829922 0.95021246 0.94773006 0.93854286 0.92944519 0.93382131\n",
      " 0.93632925 0.91703348 0.92696286 0.94847224 0.94726947 0.93987359\n",
      " 0.94235592 0.92329051 0.88925427 0.88347071 0.84197461 0.8724537\n",
      " 0.88101393 0.87895383 0.87850599 0.87337501 0.86327925 0.89272189\n",
      " 0.90107744 0.89809603 0.89251714 0.90373889 0.89117361 0.90704012\n",
      " 0.91135226 0.89956752 0.91856895 0.92149913 0.93108307 0.92023238\n",
      " 0.92029636 0.919695   0.92639987 0.9285495  0.93336065 0.93632925\n",
      " 0.94770451 0.93249058 0.91426963 0.91465349 0.91740454 0.91604826\n",
      " 0.9085884  0.87432187 0.8599524  0.88167933 0.90006653 0.8959464\n",
      " 0.87947846 0.87899225 0.88280531 0.88871689 0.87909459 0.87799416\n",
      " 0.86196133 0.87057273 0.84989512 0.85309402 0.85146895 0.84462332\n",
      " 0.84376599 0.84536544 0.83561524 0.85475744 0.85404088 0.80622378\n",
      " 0.81416984 0.8215273  0.81289029 0.7820913  0.79726687 0.80605746\n",
      " 0.83521857 0.83242916 0.83008753 0.84743835 0.8518272  0.84947283\n",
      " 0.83200687 0.84261439 0.84848761 0.8312903  0.79538596 0.79306995\n",
      " 0.79198232 0.7755272  0.76193827 0.76795219 0.7934282  0.79624323\n",
      " 0.81821326 0.81419546 0.81972311 0.82060599 0.81353006 0.80754176\n",
      " 0.81982551 0.79933978 0.79454144 0.8059167  0.81285192 0.80711947\n",
      " 0.7683105  0.76086345 0.74910433 0.73886787 0.73780586 0.75543814\n",
      " 0.75818919 0.78136199 0.78456089 0.78294863 0.78186101 0.76884788\n",
      " 0.78751668 0.80585272 0.81644743 0.81565414 0.81386276 0.82606973\n",
      " 0.83002355 0.83260828 0.83501383 0.82984443 0.84731039 0.84194906\n",
      " 0.83968421 0.84183391 0.83675404 0.83790564 0.82992121 0.81202021\n",
      " 0.8045348  0.79502765 0.79605129 0.77310885 0.79322346 0.7728913\n",
      " 0.7725586  0.77332633 0.77170133 0.77747215 0.78260313 0.79488688\n",
      " 0.80136146 0.7978811  0.76999948 0.76589215 0.74141417 0.74655802\n",
      " 0.749501   0.73949484 0.74108148 0.73459416 0.73775463 0.7436534\n",
      " 0.74831098 0.73849681 0.74035217 0.73533627 0.76251407 0.76527793\n",
      " 0.75579639 0.76952608 0.75698642 0.76497085 0.76562343 0.76456136\n",
      " 0.76778587 0.77621815 0.7703706  0.77944266 0.77434998 0.78056864\n",
      " 0.72975451 0.67325228 0.62710708 0.59279662 0.57060456 0.55539626\n",
      " 0.54289567 0.53063858 0.51792455 0.50513083 0.49303162 0.48232797\n",
      " 0.4734273  0.4664138  0.46112359 0.45725194 0.45444837 0.45238137\n",
      " 0.45076984 0.44939268]\n",
      "20 day output [[0.44808242]]\n",
      "21 day input [0.95021246 0.94773006 0.93854286 0.92944519 0.93382131 0.93632925\n",
      " 0.91703348 0.92696286 0.94847224 0.94726947 0.93987359 0.94235592\n",
      " 0.92329051 0.88925427 0.88347071 0.84197461 0.8724537  0.88101393\n",
      " 0.87895383 0.87850599 0.87337501 0.86327925 0.89272189 0.90107744\n",
      " 0.89809603 0.89251714 0.90373889 0.89117361 0.90704012 0.91135226\n",
      " 0.89956752 0.91856895 0.92149913 0.93108307 0.92023238 0.92029636\n",
      " 0.919695   0.92639987 0.9285495  0.93336065 0.93632925 0.94770451\n",
      " 0.93249058 0.91426963 0.91465349 0.91740454 0.91604826 0.9085884\n",
      " 0.87432187 0.8599524  0.88167933 0.90006653 0.8959464  0.87947846\n",
      " 0.87899225 0.88280531 0.88871689 0.87909459 0.87799416 0.86196133\n",
      " 0.87057273 0.84989512 0.85309402 0.85146895 0.84462332 0.84376599\n",
      " 0.84536544 0.83561524 0.85475744 0.85404088 0.80622378 0.81416984\n",
      " 0.8215273  0.81289029 0.7820913  0.79726687 0.80605746 0.83521857\n",
      " 0.83242916 0.83008753 0.84743835 0.8518272  0.84947283 0.83200687\n",
      " 0.84261439 0.84848761 0.8312903  0.79538596 0.79306995 0.79198232\n",
      " 0.7755272  0.76193827 0.76795219 0.7934282  0.79624323 0.81821326\n",
      " 0.81419546 0.81972311 0.82060599 0.81353006 0.80754176 0.81982551\n",
      " 0.79933978 0.79454144 0.8059167  0.81285192 0.80711947 0.7683105\n",
      " 0.76086345 0.74910433 0.73886787 0.73780586 0.75543814 0.75818919\n",
      " 0.78136199 0.78456089 0.78294863 0.78186101 0.76884788 0.78751668\n",
      " 0.80585272 0.81644743 0.81565414 0.81386276 0.82606973 0.83002355\n",
      " 0.83260828 0.83501383 0.82984443 0.84731039 0.84194906 0.83968421\n",
      " 0.84183391 0.83675404 0.83790564 0.82992121 0.81202021 0.8045348\n",
      " 0.79502765 0.79605129 0.77310885 0.79322346 0.7728913  0.7725586\n",
      " 0.77332633 0.77170133 0.77747215 0.78260313 0.79488688 0.80136146\n",
      " 0.7978811  0.76999948 0.76589215 0.74141417 0.74655802 0.749501\n",
      " 0.73949484 0.74108148 0.73459416 0.73775463 0.7436534  0.74831098\n",
      " 0.73849681 0.74035217 0.73533627 0.76251407 0.76527793 0.75579639\n",
      " 0.76952608 0.75698642 0.76497085 0.76562343 0.76456136 0.76778587\n",
      " 0.77621815 0.7703706  0.77944266 0.77434998 0.78056864 0.72975451\n",
      " 0.67325228 0.62710708 0.59279662 0.57060456 0.55539626 0.54289567\n",
      " 0.53063858 0.51792455 0.50513083 0.49303162 0.48232797 0.4734273\n",
      " 0.4664138  0.46112359 0.45725194 0.45444837 0.45238137 0.45076984\n",
      " 0.44939268 0.44808242]\n",
      "21 day output [[0.446714]]\n",
      "22 day input [0.94773006 0.93854286 0.92944519 0.93382131 0.93632925 0.91703348\n",
      " 0.92696286 0.94847224 0.94726947 0.93987359 0.94235592 0.92329051\n",
      " 0.88925427 0.88347071 0.84197461 0.8724537  0.88101393 0.87895383\n",
      " 0.87850599 0.87337501 0.86327925 0.89272189 0.90107744 0.89809603\n",
      " 0.89251714 0.90373889 0.89117361 0.90704012 0.91135226 0.89956752\n",
      " 0.91856895 0.92149913 0.93108307 0.92023238 0.92029636 0.919695\n",
      " 0.92639987 0.9285495  0.93336065 0.93632925 0.94770451 0.93249058\n",
      " 0.91426963 0.91465349 0.91740454 0.91604826 0.9085884  0.87432187\n",
      " 0.8599524  0.88167933 0.90006653 0.8959464  0.87947846 0.87899225\n",
      " 0.88280531 0.88871689 0.87909459 0.87799416 0.86196133 0.87057273\n",
      " 0.84989512 0.85309402 0.85146895 0.84462332 0.84376599 0.84536544\n",
      " 0.83561524 0.85475744 0.85404088 0.80622378 0.81416984 0.8215273\n",
      " 0.81289029 0.7820913  0.79726687 0.80605746 0.83521857 0.83242916\n",
      " 0.83008753 0.84743835 0.8518272  0.84947283 0.83200687 0.84261439\n",
      " 0.84848761 0.8312903  0.79538596 0.79306995 0.79198232 0.7755272\n",
      " 0.76193827 0.76795219 0.7934282  0.79624323 0.81821326 0.81419546\n",
      " 0.81972311 0.82060599 0.81353006 0.80754176 0.81982551 0.79933978\n",
      " 0.79454144 0.8059167  0.81285192 0.80711947 0.7683105  0.76086345\n",
      " 0.74910433 0.73886787 0.73780586 0.75543814 0.75818919 0.78136199\n",
      " 0.78456089 0.78294863 0.78186101 0.76884788 0.78751668 0.80585272\n",
      " 0.81644743 0.81565414 0.81386276 0.82606973 0.83002355 0.83260828\n",
      " 0.83501383 0.82984443 0.84731039 0.84194906 0.83968421 0.84183391\n",
      " 0.83675404 0.83790564 0.82992121 0.81202021 0.8045348  0.79502765\n",
      " 0.79605129 0.77310885 0.79322346 0.7728913  0.7725586  0.77332633\n",
      " 0.77170133 0.77747215 0.78260313 0.79488688 0.80136146 0.7978811\n",
      " 0.76999948 0.76589215 0.74141417 0.74655802 0.749501   0.73949484\n",
      " 0.74108148 0.73459416 0.73775463 0.7436534  0.74831098 0.73849681\n",
      " 0.74035217 0.73533627 0.76251407 0.76527793 0.75579639 0.76952608\n",
      " 0.75698642 0.76497085 0.76562343 0.76456136 0.76778587 0.77621815\n",
      " 0.7703706  0.77944266 0.77434998 0.78056864 0.72975451 0.67325228\n",
      " 0.62710708 0.59279662 0.57060456 0.55539626 0.54289567 0.53063858\n",
      " 0.51792455 0.50513083 0.49303162 0.48232797 0.4734273  0.4664138\n",
      " 0.46112359 0.45725194 0.45444837 0.45238137 0.45076984 0.44939268\n",
      " 0.44808242 0.44671401]\n",
      "22 day output [[0.4451921]]\n",
      "23 day input [0.93854286 0.92944519 0.93382131 0.93632925 0.91703348 0.92696286\n",
      " 0.94847224 0.94726947 0.93987359 0.94235592 0.92329051 0.88925427\n",
      " 0.88347071 0.84197461 0.8724537  0.88101393 0.87895383 0.87850599\n",
      " 0.87337501 0.86327925 0.89272189 0.90107744 0.89809603 0.89251714\n",
      " 0.90373889 0.89117361 0.90704012 0.91135226 0.89956752 0.91856895\n",
      " 0.92149913 0.93108307 0.92023238 0.92029636 0.919695   0.92639987\n",
      " 0.9285495  0.93336065 0.93632925 0.94770451 0.93249058 0.91426963\n",
      " 0.91465349 0.91740454 0.91604826 0.9085884  0.87432187 0.8599524\n",
      " 0.88167933 0.90006653 0.8959464  0.87947846 0.87899225 0.88280531\n",
      " 0.88871689 0.87909459 0.87799416 0.86196133 0.87057273 0.84989512\n",
      " 0.85309402 0.85146895 0.84462332 0.84376599 0.84536544 0.83561524\n",
      " 0.85475744 0.85404088 0.80622378 0.81416984 0.8215273  0.81289029\n",
      " 0.7820913  0.79726687 0.80605746 0.83521857 0.83242916 0.83008753\n",
      " 0.84743835 0.8518272  0.84947283 0.83200687 0.84261439 0.84848761\n",
      " 0.8312903  0.79538596 0.79306995 0.79198232 0.7755272  0.76193827\n",
      " 0.76795219 0.7934282  0.79624323 0.81821326 0.81419546 0.81972311\n",
      " 0.82060599 0.81353006 0.80754176 0.81982551 0.79933978 0.79454144\n",
      " 0.8059167  0.81285192 0.80711947 0.7683105  0.76086345 0.74910433\n",
      " 0.73886787 0.73780586 0.75543814 0.75818919 0.78136199 0.78456089\n",
      " 0.78294863 0.78186101 0.76884788 0.78751668 0.80585272 0.81644743\n",
      " 0.81565414 0.81386276 0.82606973 0.83002355 0.83260828 0.83501383\n",
      " 0.82984443 0.84731039 0.84194906 0.83968421 0.84183391 0.83675404\n",
      " 0.83790564 0.82992121 0.81202021 0.8045348  0.79502765 0.79605129\n",
      " 0.77310885 0.79322346 0.7728913  0.7725586  0.77332633 0.77170133\n",
      " 0.77747215 0.78260313 0.79488688 0.80136146 0.7978811  0.76999948\n",
      " 0.76589215 0.74141417 0.74655802 0.749501   0.73949484 0.74108148\n",
      " 0.73459416 0.73775463 0.7436534  0.74831098 0.73849681 0.74035217\n",
      " 0.73533627 0.76251407 0.76527793 0.75579639 0.76952608 0.75698642\n",
      " 0.76497085 0.76562343 0.76456136 0.76778587 0.77621815 0.7703706\n",
      " 0.77944266 0.77434998 0.78056864 0.72975451 0.67325228 0.62710708\n",
      " 0.59279662 0.57060456 0.55539626 0.54289567 0.53063858 0.51792455\n",
      " 0.50513083 0.49303162 0.48232797 0.4734273  0.4664138  0.46112359\n",
      " 0.45725194 0.45444837 0.45238137 0.45076984 0.44939268 0.44808242\n",
      " 0.44671401 0.4451921 ]\n",
      "23 day output [[0.44344306]]\n",
      "24 day input [0.92944519 0.93382131 0.93632925 0.91703348 0.92696286 0.94847224\n",
      " 0.94726947 0.93987359 0.94235592 0.92329051 0.88925427 0.88347071\n",
      " 0.84197461 0.8724537  0.88101393 0.87895383 0.87850599 0.87337501\n",
      " 0.86327925 0.89272189 0.90107744 0.89809603 0.89251714 0.90373889\n",
      " 0.89117361 0.90704012 0.91135226 0.89956752 0.91856895 0.92149913\n",
      " 0.93108307 0.92023238 0.92029636 0.919695   0.92639987 0.9285495\n",
      " 0.93336065 0.93632925 0.94770451 0.93249058 0.91426963 0.91465349\n",
      " 0.91740454 0.91604826 0.9085884  0.87432187 0.8599524  0.88167933\n",
      " 0.90006653 0.8959464  0.87947846 0.87899225 0.88280531 0.88871689\n",
      " 0.87909459 0.87799416 0.86196133 0.87057273 0.84989512 0.85309402\n",
      " 0.85146895 0.84462332 0.84376599 0.84536544 0.83561524 0.85475744\n",
      " 0.85404088 0.80622378 0.81416984 0.8215273  0.81289029 0.7820913\n",
      " 0.79726687 0.80605746 0.83521857 0.83242916 0.83008753 0.84743835\n",
      " 0.8518272  0.84947283 0.83200687 0.84261439 0.84848761 0.8312903\n",
      " 0.79538596 0.79306995 0.79198232 0.7755272  0.76193827 0.76795219\n",
      " 0.7934282  0.79624323 0.81821326 0.81419546 0.81972311 0.82060599\n",
      " 0.81353006 0.80754176 0.81982551 0.79933978 0.79454144 0.8059167\n",
      " 0.81285192 0.80711947 0.7683105  0.76086345 0.74910433 0.73886787\n",
      " 0.73780586 0.75543814 0.75818919 0.78136199 0.78456089 0.78294863\n",
      " 0.78186101 0.76884788 0.78751668 0.80585272 0.81644743 0.81565414\n",
      " 0.81386276 0.82606973 0.83002355 0.83260828 0.83501383 0.82984443\n",
      " 0.84731039 0.84194906 0.83968421 0.84183391 0.83675404 0.83790564\n",
      " 0.82992121 0.81202021 0.8045348  0.79502765 0.79605129 0.77310885\n",
      " 0.79322346 0.7728913  0.7725586  0.77332633 0.77170133 0.77747215\n",
      " 0.78260313 0.79488688 0.80136146 0.7978811  0.76999948 0.76589215\n",
      " 0.74141417 0.74655802 0.749501   0.73949484 0.74108148 0.73459416\n",
      " 0.73775463 0.7436534  0.74831098 0.73849681 0.74035217 0.73533627\n",
      " 0.76251407 0.76527793 0.75579639 0.76952608 0.75698642 0.76497085\n",
      " 0.76562343 0.76456136 0.76778587 0.77621815 0.7703706  0.77944266\n",
      " 0.77434998 0.78056864 0.72975451 0.67325228 0.62710708 0.59279662\n",
      " 0.57060456 0.55539626 0.54289567 0.53063858 0.51792455 0.50513083\n",
      " 0.49303162 0.48232797 0.4734273  0.4664138  0.46112359 0.45725194\n",
      " 0.45444837 0.45238137 0.45076984 0.44939268 0.44808242 0.44671401\n",
      " 0.4451921  0.44344306]\n",
      "24 day output [[0.44140866]]\n",
      "25 day input [0.93382131 0.93632925 0.91703348 0.92696286 0.94847224 0.94726947\n",
      " 0.93987359 0.94235592 0.92329051 0.88925427 0.88347071 0.84197461\n",
      " 0.8724537  0.88101393 0.87895383 0.87850599 0.87337501 0.86327925\n",
      " 0.89272189 0.90107744 0.89809603 0.89251714 0.90373889 0.89117361\n",
      " 0.90704012 0.91135226 0.89956752 0.91856895 0.92149913 0.93108307\n",
      " 0.92023238 0.92029636 0.919695   0.92639987 0.9285495  0.93336065\n",
      " 0.93632925 0.94770451 0.93249058 0.91426963 0.91465349 0.91740454\n",
      " 0.91604826 0.9085884  0.87432187 0.8599524  0.88167933 0.90006653\n",
      " 0.8959464  0.87947846 0.87899225 0.88280531 0.88871689 0.87909459\n",
      " 0.87799416 0.86196133 0.87057273 0.84989512 0.85309402 0.85146895\n",
      " 0.84462332 0.84376599 0.84536544 0.83561524 0.85475744 0.85404088\n",
      " 0.80622378 0.81416984 0.8215273  0.81289029 0.7820913  0.79726687\n",
      " 0.80605746 0.83521857 0.83242916 0.83008753 0.84743835 0.8518272\n",
      " 0.84947283 0.83200687 0.84261439 0.84848761 0.8312903  0.79538596\n",
      " 0.79306995 0.79198232 0.7755272  0.76193827 0.76795219 0.7934282\n",
      " 0.79624323 0.81821326 0.81419546 0.81972311 0.82060599 0.81353006\n",
      " 0.80754176 0.81982551 0.79933978 0.79454144 0.8059167  0.81285192\n",
      " 0.80711947 0.7683105  0.76086345 0.74910433 0.73886787 0.73780586\n",
      " 0.75543814 0.75818919 0.78136199 0.78456089 0.78294863 0.78186101\n",
      " 0.76884788 0.78751668 0.80585272 0.81644743 0.81565414 0.81386276\n",
      " 0.82606973 0.83002355 0.83260828 0.83501383 0.82984443 0.84731039\n",
      " 0.84194906 0.83968421 0.84183391 0.83675404 0.83790564 0.82992121\n",
      " 0.81202021 0.8045348  0.79502765 0.79605129 0.77310885 0.79322346\n",
      " 0.7728913  0.7725586  0.77332633 0.77170133 0.77747215 0.78260313\n",
      " 0.79488688 0.80136146 0.7978811  0.76999948 0.76589215 0.74141417\n",
      " 0.74655802 0.749501   0.73949484 0.74108148 0.73459416 0.73775463\n",
      " 0.7436534  0.74831098 0.73849681 0.74035217 0.73533627 0.76251407\n",
      " 0.76527793 0.75579639 0.76952608 0.75698642 0.76497085 0.76562343\n",
      " 0.76456136 0.76778587 0.77621815 0.7703706  0.77944266 0.77434998\n",
      " 0.78056864 0.72975451 0.67325228 0.62710708 0.59279662 0.57060456\n",
      " 0.55539626 0.54289567 0.53063858 0.51792455 0.50513083 0.49303162\n",
      " 0.48232797 0.4734273  0.4664138  0.46112359 0.45725194 0.45444837\n",
      " 0.45238137 0.45076984 0.44939268 0.44808242 0.44671401 0.4451921\n",
      " 0.44344306 0.44140866]\n",
      "25 day output [[0.43904525]]\n",
      "26 day input [0.93632925 0.91703348 0.92696286 0.94847224 0.94726947 0.93987359\n",
      " 0.94235592 0.92329051 0.88925427 0.88347071 0.84197461 0.8724537\n",
      " 0.88101393 0.87895383 0.87850599 0.87337501 0.86327925 0.89272189\n",
      " 0.90107744 0.89809603 0.89251714 0.90373889 0.89117361 0.90704012\n",
      " 0.91135226 0.89956752 0.91856895 0.92149913 0.93108307 0.92023238\n",
      " 0.92029636 0.919695   0.92639987 0.9285495  0.93336065 0.93632925\n",
      " 0.94770451 0.93249058 0.91426963 0.91465349 0.91740454 0.91604826\n",
      " 0.9085884  0.87432187 0.8599524  0.88167933 0.90006653 0.8959464\n",
      " 0.87947846 0.87899225 0.88280531 0.88871689 0.87909459 0.87799416\n",
      " 0.86196133 0.87057273 0.84989512 0.85309402 0.85146895 0.84462332\n",
      " 0.84376599 0.84536544 0.83561524 0.85475744 0.85404088 0.80622378\n",
      " 0.81416984 0.8215273  0.81289029 0.7820913  0.79726687 0.80605746\n",
      " 0.83521857 0.83242916 0.83008753 0.84743835 0.8518272  0.84947283\n",
      " 0.83200687 0.84261439 0.84848761 0.8312903  0.79538596 0.79306995\n",
      " 0.79198232 0.7755272  0.76193827 0.76795219 0.7934282  0.79624323\n",
      " 0.81821326 0.81419546 0.81972311 0.82060599 0.81353006 0.80754176\n",
      " 0.81982551 0.79933978 0.79454144 0.8059167  0.81285192 0.80711947\n",
      " 0.7683105  0.76086345 0.74910433 0.73886787 0.73780586 0.75543814\n",
      " 0.75818919 0.78136199 0.78456089 0.78294863 0.78186101 0.76884788\n",
      " 0.78751668 0.80585272 0.81644743 0.81565414 0.81386276 0.82606973\n",
      " 0.83002355 0.83260828 0.83501383 0.82984443 0.84731039 0.84194906\n",
      " 0.83968421 0.84183391 0.83675404 0.83790564 0.82992121 0.81202021\n",
      " 0.8045348  0.79502765 0.79605129 0.77310885 0.79322346 0.7728913\n",
      " 0.7725586  0.77332633 0.77170133 0.77747215 0.78260313 0.79488688\n",
      " 0.80136146 0.7978811  0.76999948 0.76589215 0.74141417 0.74655802\n",
      " 0.749501   0.73949484 0.74108148 0.73459416 0.73775463 0.7436534\n",
      " 0.74831098 0.73849681 0.74035217 0.73533627 0.76251407 0.76527793\n",
      " 0.75579639 0.76952608 0.75698642 0.76497085 0.76562343 0.76456136\n",
      " 0.76778587 0.77621815 0.7703706  0.77944266 0.77434998 0.78056864\n",
      " 0.72975451 0.67325228 0.62710708 0.59279662 0.57060456 0.55539626\n",
      " 0.54289567 0.53063858 0.51792455 0.50513083 0.49303162 0.48232797\n",
      " 0.4734273  0.4664138  0.46112359 0.45725194 0.45444837 0.45238137\n",
      " 0.45076984 0.44939268 0.44808242 0.44671401 0.4451921  0.44344306\n",
      " 0.44140866 0.43904525]\n",
      "26 day output [[0.43632248]]\n",
      "27 day input [0.91703348 0.92696286 0.94847224 0.94726947 0.93987359 0.94235592\n",
      " 0.92329051 0.88925427 0.88347071 0.84197461 0.8724537  0.88101393\n",
      " 0.87895383 0.87850599 0.87337501 0.86327925 0.89272189 0.90107744\n",
      " 0.89809603 0.89251714 0.90373889 0.89117361 0.90704012 0.91135226\n",
      " 0.89956752 0.91856895 0.92149913 0.93108307 0.92023238 0.92029636\n",
      " 0.919695   0.92639987 0.9285495  0.93336065 0.93632925 0.94770451\n",
      " 0.93249058 0.91426963 0.91465349 0.91740454 0.91604826 0.9085884\n",
      " 0.87432187 0.8599524  0.88167933 0.90006653 0.8959464  0.87947846\n",
      " 0.87899225 0.88280531 0.88871689 0.87909459 0.87799416 0.86196133\n",
      " 0.87057273 0.84989512 0.85309402 0.85146895 0.84462332 0.84376599\n",
      " 0.84536544 0.83561524 0.85475744 0.85404088 0.80622378 0.81416984\n",
      " 0.8215273  0.81289029 0.7820913  0.79726687 0.80605746 0.83521857\n",
      " 0.83242916 0.83008753 0.84743835 0.8518272  0.84947283 0.83200687\n",
      " 0.84261439 0.84848761 0.8312903  0.79538596 0.79306995 0.79198232\n",
      " 0.7755272  0.76193827 0.76795219 0.7934282  0.79624323 0.81821326\n",
      " 0.81419546 0.81972311 0.82060599 0.81353006 0.80754176 0.81982551\n",
      " 0.79933978 0.79454144 0.8059167  0.81285192 0.80711947 0.7683105\n",
      " 0.76086345 0.74910433 0.73886787 0.73780586 0.75543814 0.75818919\n",
      " 0.78136199 0.78456089 0.78294863 0.78186101 0.76884788 0.78751668\n",
      " 0.80585272 0.81644743 0.81565414 0.81386276 0.82606973 0.83002355\n",
      " 0.83260828 0.83501383 0.82984443 0.84731039 0.84194906 0.83968421\n",
      " 0.84183391 0.83675404 0.83790564 0.82992121 0.81202021 0.8045348\n",
      " 0.79502765 0.79605129 0.77310885 0.79322346 0.7728913  0.7725586\n",
      " 0.77332633 0.77170133 0.77747215 0.78260313 0.79488688 0.80136146\n",
      " 0.7978811  0.76999948 0.76589215 0.74141417 0.74655802 0.749501\n",
      " 0.73949484 0.74108148 0.73459416 0.73775463 0.7436534  0.74831098\n",
      " 0.73849681 0.74035217 0.73533627 0.76251407 0.76527793 0.75579639\n",
      " 0.76952608 0.75698642 0.76497085 0.76562343 0.76456136 0.76778587\n",
      " 0.77621815 0.7703706  0.77944266 0.77434998 0.78056864 0.72975451\n",
      " 0.67325228 0.62710708 0.59279662 0.57060456 0.55539626 0.54289567\n",
      " 0.53063858 0.51792455 0.50513083 0.49303162 0.48232797 0.4734273\n",
      " 0.4664138  0.46112359 0.45725194 0.45444837 0.45238137 0.45076984\n",
      " 0.44939268 0.44808242 0.44671401 0.4451921  0.44344306 0.44140866\n",
      " 0.43904525 0.43632248]\n",
      "27 day output [[0.43322438]]\n",
      "28 day input [0.92696286 0.94847224 0.94726947 0.93987359 0.94235592 0.92329051\n",
      " 0.88925427 0.88347071 0.84197461 0.8724537  0.88101393 0.87895383\n",
      " 0.87850599 0.87337501 0.86327925 0.89272189 0.90107744 0.89809603\n",
      " 0.89251714 0.90373889 0.89117361 0.90704012 0.91135226 0.89956752\n",
      " 0.91856895 0.92149913 0.93108307 0.92023238 0.92029636 0.919695\n",
      " 0.92639987 0.9285495  0.93336065 0.93632925 0.94770451 0.93249058\n",
      " 0.91426963 0.91465349 0.91740454 0.91604826 0.9085884  0.87432187\n",
      " 0.8599524  0.88167933 0.90006653 0.8959464  0.87947846 0.87899225\n",
      " 0.88280531 0.88871689 0.87909459 0.87799416 0.86196133 0.87057273\n",
      " 0.84989512 0.85309402 0.85146895 0.84462332 0.84376599 0.84536544\n",
      " 0.83561524 0.85475744 0.85404088 0.80622378 0.81416984 0.8215273\n",
      " 0.81289029 0.7820913  0.79726687 0.80605746 0.83521857 0.83242916\n",
      " 0.83008753 0.84743835 0.8518272  0.84947283 0.83200687 0.84261439\n",
      " 0.84848761 0.8312903  0.79538596 0.79306995 0.79198232 0.7755272\n",
      " 0.76193827 0.76795219 0.7934282  0.79624323 0.81821326 0.81419546\n",
      " 0.81972311 0.82060599 0.81353006 0.80754176 0.81982551 0.79933978\n",
      " 0.79454144 0.8059167  0.81285192 0.80711947 0.7683105  0.76086345\n",
      " 0.74910433 0.73886787 0.73780586 0.75543814 0.75818919 0.78136199\n",
      " 0.78456089 0.78294863 0.78186101 0.76884788 0.78751668 0.80585272\n",
      " 0.81644743 0.81565414 0.81386276 0.82606973 0.83002355 0.83260828\n",
      " 0.83501383 0.82984443 0.84731039 0.84194906 0.83968421 0.84183391\n",
      " 0.83675404 0.83790564 0.82992121 0.81202021 0.8045348  0.79502765\n",
      " 0.79605129 0.77310885 0.79322346 0.7728913  0.7725586  0.77332633\n",
      " 0.77170133 0.77747215 0.78260313 0.79488688 0.80136146 0.7978811\n",
      " 0.76999948 0.76589215 0.74141417 0.74655802 0.749501   0.73949484\n",
      " 0.74108148 0.73459416 0.73775463 0.7436534  0.74831098 0.73849681\n",
      " 0.74035217 0.73533627 0.76251407 0.76527793 0.75579639 0.76952608\n",
      " 0.75698642 0.76497085 0.76562343 0.76456136 0.76778587 0.77621815\n",
      " 0.7703706  0.77944266 0.77434998 0.78056864 0.72975451 0.67325228\n",
      " 0.62710708 0.59279662 0.57060456 0.55539626 0.54289567 0.53063858\n",
      " 0.51792455 0.50513083 0.49303162 0.48232797 0.4734273  0.4664138\n",
      " 0.46112359 0.45725194 0.45444837 0.45238137 0.45076984 0.44939268\n",
      " 0.44808242 0.44671401 0.4451921  0.44344306 0.44140866 0.43904525\n",
      " 0.43632248 0.43322438]\n",
      "28 day output [[0.42974922]]\n",
      "29 day input [0.94847224 0.94726947 0.93987359 0.94235592 0.92329051 0.88925427\n",
      " 0.88347071 0.84197461 0.8724537  0.88101393 0.87895383 0.87850599\n",
      " 0.87337501 0.86327925 0.89272189 0.90107744 0.89809603 0.89251714\n",
      " 0.90373889 0.89117361 0.90704012 0.91135226 0.89956752 0.91856895\n",
      " 0.92149913 0.93108307 0.92023238 0.92029636 0.919695   0.92639987\n",
      " 0.9285495  0.93336065 0.93632925 0.94770451 0.93249058 0.91426963\n",
      " 0.91465349 0.91740454 0.91604826 0.9085884  0.87432187 0.8599524\n",
      " 0.88167933 0.90006653 0.8959464  0.87947846 0.87899225 0.88280531\n",
      " 0.88871689 0.87909459 0.87799416 0.86196133 0.87057273 0.84989512\n",
      " 0.85309402 0.85146895 0.84462332 0.84376599 0.84536544 0.83561524\n",
      " 0.85475744 0.85404088 0.80622378 0.81416984 0.8215273  0.81289029\n",
      " 0.7820913  0.79726687 0.80605746 0.83521857 0.83242916 0.83008753\n",
      " 0.84743835 0.8518272  0.84947283 0.83200687 0.84261439 0.84848761\n",
      " 0.8312903  0.79538596 0.79306995 0.79198232 0.7755272  0.76193827\n",
      " 0.76795219 0.7934282  0.79624323 0.81821326 0.81419546 0.81972311\n",
      " 0.82060599 0.81353006 0.80754176 0.81982551 0.79933978 0.79454144\n",
      " 0.8059167  0.81285192 0.80711947 0.7683105  0.76086345 0.74910433\n",
      " 0.73886787 0.73780586 0.75543814 0.75818919 0.78136199 0.78456089\n",
      " 0.78294863 0.78186101 0.76884788 0.78751668 0.80585272 0.81644743\n",
      " 0.81565414 0.81386276 0.82606973 0.83002355 0.83260828 0.83501383\n",
      " 0.82984443 0.84731039 0.84194906 0.83968421 0.84183391 0.83675404\n",
      " 0.83790564 0.82992121 0.81202021 0.8045348  0.79502765 0.79605129\n",
      " 0.77310885 0.79322346 0.7728913  0.7725586  0.77332633 0.77170133\n",
      " 0.77747215 0.78260313 0.79488688 0.80136146 0.7978811  0.76999948\n",
      " 0.76589215 0.74141417 0.74655802 0.749501   0.73949484 0.74108148\n",
      " 0.73459416 0.73775463 0.7436534  0.74831098 0.73849681 0.74035217\n",
      " 0.73533627 0.76251407 0.76527793 0.75579639 0.76952608 0.75698642\n",
      " 0.76497085 0.76562343 0.76456136 0.76778587 0.77621815 0.7703706\n",
      " 0.77944266 0.77434998 0.78056864 0.72975451 0.67325228 0.62710708\n",
      " 0.59279662 0.57060456 0.55539626 0.54289567 0.53063858 0.51792455\n",
      " 0.50513083 0.49303162 0.48232797 0.4734273  0.4664138  0.46112359\n",
      " 0.45725194 0.45444837 0.45238137 0.45076984 0.44939268 0.44808242\n",
      " 0.44671401 0.4451921  0.44344306 0.44140866 0.43904525 0.43632248\n",
      " 0.43322438 0.42974922]\n",
      "29 day output [[0.42590904]]\n",
      "\n",
      "\n",
      "Finally Printing 30 Day Prediction\n",
      "[[0.7297545075416565], [0.673252284526825], [0.6271070837974548], [0.5927966237068176], [0.5706045627593994], [0.5553962588310242], [0.5428956747055054], [0.530638575553894], [0.5179245471954346], [0.5051308274269104], [0.4930316209793091], [0.48232796788215637], [0.47342729568481445], [0.46641379594802856], [0.46112358570098877], [0.4572519361972809], [0.4544483721256256], [0.4523813724517822], [0.45076984167099], [0.4493926763534546], [0.44808241724967957], [0.44671401381492615], [0.4451920986175537], [0.44344305992126465], [0.4414086639881134], [0.439045250415802], [0.43632248044013977], [0.4332243800163269], [0.4297492206096649], [0.42590904235839844]]\n"
     ]
    }
   ],
   "source": [
    "# demonstrate prediction for next 30 days\n",
    "lst_output=[]\n",
    "n_steps=time_step\n",
    "i=0\n",
    "while(i<30):\n",
    "    \n",
    "    if(len(temp_input)>time_step):\n",
    "        #print(temp_input)\n",
    "        x_input=np.array(temp_input[1:])\n",
    "        print(\"{} day input {}\".format(i,x_input))\n",
    "        x_input=x_input.reshape(1,-1)\n",
    "        x_input = x_input.reshape((1, n_steps, 1))\n",
    "        #print(x_input)\n",
    "        yhat = model.predict(x_input, verbose=0)\n",
    "        print(\"{} day output {}\".format(i,yhat))\n",
    "        temp_input.extend(yhat[0].tolist())\n",
    "        temp_input=temp_input[1:]\n",
    "        #print(temp_input)\n",
    "        lst_output.extend(yhat.tolist())\n",
    "        i=i+1\n",
    "    else:\n",
    "        x_input = x_input.reshape((1, n_steps,1))\n",
    "        yhat = model.predict(x_input, verbose=0)\n",
    "        print(yhat[0])\n",
    "        temp_input.extend(yhat[0].tolist())\n",
    "        print(len(temp_input))\n",
    "        lst_output.extend(yhat.tolist())\n",
    "        i=i+1\n",
    "    \n",
    "print(\"\\n\\nFinally Printing 30 Day Prediction\")\n",
    "print(lst_output)"
   ]
  },
  {
   "cell_type": "code",
   "execution_count": 52,
   "metadata": {
    "execution": {
     "iopub.execute_input": "2023-12-08T06:43:35.013575Z",
     "iopub.status.busy": "2023-12-08T06:43:35.013130Z",
     "iopub.status.idle": "2023-12-08T06:43:35.019555Z",
     "shell.execute_reply": "2023-12-08T06:43:35.018653Z",
     "shell.execute_reply.started": "2023-12-08T06:43:35.013538Z"
    }
   },
   "outputs": [
    {
     "data": {
      "text/plain": [
       "[0.7297545075416565]"
      ]
     },
     "execution_count": 52,
     "metadata": {},
     "output_type": "execute_result"
    }
   ],
   "source": [
    "lst_output[0]"
   ]
  },
  {
   "cell_type": "code",
   "execution_count": 46,
   "metadata": {
    "execution": {
     "iopub.execute_input": "2023-12-08T06:33:15.189632Z",
     "iopub.status.busy": "2023-12-08T06:33:15.189265Z",
     "iopub.status.idle": "2023-12-08T06:33:15.195516Z",
     "shell.execute_reply": "2023-12-08T06:33:15.194258Z",
     "shell.execute_reply.started": "2023-12-08T06:33:15.189600Z"
    }
   },
   "outputs": [],
   "source": [
    "day_new=np.arange(1,time_step+1)\n",
    "day_pred=np.arange(time_step+1,time_step+31)"
   ]
  },
  {
   "cell_type": "code",
   "execution_count": 54,
   "metadata": {
    "execution": {
     "iopub.execute_input": "2023-12-08T06:47:46.979641Z",
     "iopub.status.busy": "2023-12-08T06:47:46.979240Z",
     "iopub.status.idle": "2023-12-08T06:47:46.987071Z",
     "shell.execute_reply": "2023-12-08T06:47:46.985823Z",
     "shell.execute_reply.started": "2023-12-08T06:47:46.979607Z"
    }
   },
   "outputs": [
    {
     "data": {
      "text/plain": [
       "array([  1,   2,   3,   4,   5,   6,   7,   8,   9,  10,  11,  12,  13,\n",
       "        14,  15,  16,  17,  18,  19,  20,  21,  22,  23,  24,  25,  26,\n",
       "        27,  28,  29,  30,  31,  32,  33,  34,  35,  36,  37,  38,  39,\n",
       "        40,  41,  42,  43,  44,  45,  46,  47,  48,  49,  50,  51,  52,\n",
       "        53,  54,  55,  56,  57,  58,  59,  60,  61,  62,  63,  64,  65,\n",
       "        66,  67,  68,  69,  70,  71,  72,  73,  74,  75,  76,  77,  78,\n",
       "        79,  80,  81,  82,  83,  84,  85,  86,  87,  88,  89,  90,  91,\n",
       "        92,  93,  94,  95,  96,  97,  98,  99, 100, 101, 102, 103, 104,\n",
       "       105, 106, 107, 108, 109, 110, 111, 112, 113, 114, 115, 116, 117,\n",
       "       118, 119, 120, 121, 122, 123, 124, 125, 126, 127, 128, 129, 130,\n",
       "       131, 132, 133, 134, 135, 136, 137, 138, 139, 140, 141, 142, 143,\n",
       "       144, 145, 146, 147, 148, 149, 150, 151, 152, 153, 154, 155, 156,\n",
       "       157, 158, 159, 160, 161, 162, 163, 164, 165, 166, 167, 168, 169,\n",
       "       170, 171, 172, 173, 174, 175, 176, 177, 178, 179, 180, 181, 182,\n",
       "       183, 184, 185, 186, 187, 188, 189, 190, 191, 192, 193, 194, 195,\n",
       "       196, 197, 198, 199, 200])"
      ]
     },
     "execution_count": 54,
     "metadata": {},
     "output_type": "execute_result"
    }
   ],
   "source": [
    "day_new"
   ]
  },
  {
   "cell_type": "code",
   "execution_count": 53,
   "metadata": {
    "execution": {
     "iopub.execute_input": "2023-12-08T06:47:26.474422Z",
     "iopub.status.busy": "2023-12-08T06:47:26.473148Z",
     "iopub.status.idle": "2023-12-08T06:47:26.481609Z",
     "shell.execute_reply": "2023-12-08T06:47:26.480818Z",
     "shell.execute_reply.started": "2023-12-08T06:47:26.474366Z"
    }
   },
   "outputs": [
    {
     "data": {
      "text/plain": [
       "array([201, 202, 203, 204, 205, 206, 207, 208, 209, 210, 211, 212, 213,\n",
       "       214, 215, 216, 217, 218, 219, 220, 221, 222, 223, 224, 225, 226,\n",
       "       227, 228, 229, 230])"
      ]
     },
     "execution_count": 53,
     "metadata": {},
     "output_type": "execute_result"
    }
   ],
   "source": [
    "day_pred"
   ]
  },
  {
   "cell_type": "code",
   "execution_count": 81,
   "metadata": {
    "execution": {
     "iopub.execute_input": "2023-12-08T07:08:27.860807Z",
     "iopub.status.busy": "2023-12-08T07:08:27.860384Z",
     "iopub.status.idle": "2023-12-08T07:08:27.868071Z",
     "shell.execute_reply": "2023-12-08T07:08:27.867139Z",
     "shell.execute_reply.started": "2023-12-08T07:08:27.860773Z"
    }
   },
   "outputs": [
    {
     "data": {
      "text/plain": [
       "array([[2963.13864296],\n",
       "       [2742.35056202],\n",
       "       [2562.03358031],\n",
       "       [2427.96202992],\n",
       "       [2341.24433481],\n",
       "       [2281.81636791],\n",
       "       [2232.96908665],\n",
       "       [2185.07324724],\n",
       "       [2135.39191131],\n",
       "       [2085.39917324],\n",
       "       [2038.12031534],\n",
       "       [1996.29472158],\n",
       "       [1961.5144558 ],\n",
       "       [1934.10850494],\n",
       "       [1913.43647991],\n",
       "       [1898.3076227 ],\n",
       "       [1887.35241602],\n",
       "       [1879.2754083 ],\n",
       "       [1872.97819079],\n",
       "       [1867.59677973],\n",
       "       [1862.47681139],\n",
       "       [1857.12963827],\n",
       "       [1851.18260259],\n",
       "       [1844.34805916],\n",
       "       [1836.39845382],\n",
       "       [1827.16317918],\n",
       "       [1816.5236835 ],\n",
       "       [1804.4175466 ],\n",
       "       [1790.83801405],\n",
       "       [1775.8321339 ]])"
      ]
     },
     "execution_count": 81,
     "metadata": {},
     "output_type": "execute_result"
    }
   ],
   "source": [
    "scaler.inverse_transform(lst_output)"
   ]
  },
  {
   "cell_type": "code",
   "execution_count": 83,
   "metadata": {
    "execution": {
     "iopub.execute_input": "2023-12-08T07:09:10.964959Z",
     "iopub.status.busy": "2023-12-08T07:09:10.964584Z",
     "iopub.status.idle": "2023-12-08T07:09:10.974181Z",
     "shell.execute_reply": "2023-12-08T07:09:10.972491Z",
     "shell.execute_reply.started": "2023-12-08T07:09:10.964927Z"
    }
   },
   "outputs": [
    {
     "data": {
      "text/plain": [
       "array([2963.13864296, 2742.35056202, 2562.03358031, 2427.96202992,\n",
       "       2341.24433481, 2281.81636791, 2232.96908665, 2185.07324724,\n",
       "       2135.39191131, 2085.39917324, 2038.12031534, 1996.29472158,\n",
       "       1961.5144558 , 1934.10850494, 1913.43647991, 1898.3076227 ,\n",
       "       1887.35241602, 1879.2754083 , 1872.97819079, 1867.59677973,\n",
       "       1862.47681139, 1857.12963827, 1851.18260259, 1844.34805916,\n",
       "       1836.39845382, 1827.16317918, 1816.5236835 , 1804.4175466 ,\n",
       "       1790.83801405, 1775.8321339 ])"
      ]
     },
     "execution_count": 83,
     "metadata": {},
     "output_type": "execute_result"
    }
   ],
   "source": [
    "scaler.inverse_transform(lst_output).reshape(30,)"
   ]
  },
  {
   "cell_type": "code",
   "execution_count": null,
   "metadata": {},
   "outputs": [],
   "source": [
    "# 2022-10-24 ###last entry"
   ]
  },
  {
   "cell_type": "code",
   "execution_count": 63,
   "metadata": {
    "execution": {
     "iopub.execute_input": "2023-12-08T06:55:52.146387Z",
     "iopub.status.busy": "2023-12-08T06:55:52.145607Z",
     "iopub.status.idle": "2023-12-08T06:55:52.154167Z",
     "shell.execute_reply": "2023-12-08T06:55:52.152915Z",
     "shell.execute_reply.started": "2023-12-08T06:55:52.146348Z"
    }
   },
   "outputs": [
    {
     "data": {
      "text/plain": [
       "'2022-10-25'"
      ]
     },
     "execution_count": 63,
     "metadata": {},
     "output_type": "execute_result"
    }
   ],
   "source": [
    "import datetime\n",
    "today = datetime.date(2022,10,25)\n",
    "formatted_date = today.strftime('%Y-%m-%d')\n",
    "formatted_date"
   ]
  },
  {
   "cell_type": "code",
   "execution_count": 65,
   "metadata": {
    "execution": {
     "iopub.execute_input": "2023-12-08T06:56:24.275058Z",
     "iopub.status.busy": "2023-12-08T06:56:24.274629Z",
     "iopub.status.idle": "2023-12-08T06:56:24.282652Z",
     "shell.execute_reply": "2023-12-08T06:56:24.281486Z",
     "shell.execute_reply.started": "2023-12-08T06:56:24.275008Z"
    }
   },
   "outputs": [
    {
     "data": {
      "text/plain": [
       "datetime.timedelta(days=1)"
      ]
     },
     "execution_count": 65,
     "metadata": {},
     "output_type": "execute_result"
    }
   ],
   "source": [
    "one_day = datetime.timedelta(days=1)\n",
    "one_day"
   ]
  },
  {
   "cell_type": "code",
   "execution_count": 66,
   "metadata": {
    "execution": {
     "iopub.execute_input": "2023-12-08T06:57:14.634454Z",
     "iopub.status.busy": "2023-12-08T06:57:14.633989Z",
     "iopub.status.idle": "2023-12-08T06:57:14.641026Z",
     "shell.execute_reply": "2023-12-08T06:57:14.640115Z",
     "shell.execute_reply.started": "2023-12-08T06:57:14.634419Z"
    }
   },
   "outputs": [
    {
     "data": {
      "text/plain": [
       "'2022-10-26'"
      ]
     },
     "execution_count": 66,
     "metadata": {},
     "output_type": "execute_result"
    }
   ],
   "source": [
    "next_date = (today + one_day).strftime('%Y-%m-%d')\n",
    "next_date"
   ]
  },
  {
   "cell_type": "code",
   "execution_count": 68,
   "metadata": {
    "execution": {
     "iopub.execute_input": "2023-12-08T07:00:07.896739Z",
     "iopub.status.busy": "2023-12-08T07:00:07.896340Z",
     "iopub.status.idle": "2023-12-08T07:00:07.904577Z",
     "shell.execute_reply": "2023-12-08T07:00:07.903386Z",
     "shell.execute_reply.started": "2023-12-08T07:00:07.896706Z"
    }
   },
   "outputs": [
    {
     "data": {
      "text/plain": [
       "False"
      ]
     },
     "execution_count": 68,
     "metadata": {},
     "output_type": "execute_result"
    }
   ],
   "source": [
    "today = datetime.date(2022,10,25)\n",
    "next_day = datetime.date(2022,10,26)\n",
    "next_day<today"
   ]
  },
  {
   "cell_type": "code",
   "execution_count": 71,
   "metadata": {
    "execution": {
     "iopub.execute_input": "2023-12-08T07:02:37.790290Z",
     "iopub.status.busy": "2023-12-08T07:02:37.789894Z",
     "iopub.status.idle": "2023-12-08T07:02:37.797470Z",
     "shell.execute_reply": "2023-12-08T07:02:37.796117Z",
     "shell.execute_reply.started": "2023-12-08T07:02:37.790258Z"
    }
   },
   "outputs": [
    {
     "data": {
      "text/plain": [
       "datetime.date(2022, 10, 27)"
      ]
     },
     "execution_count": 71,
     "metadata": {},
     "output_type": "execute_result"
    }
   ],
   "source": [
    "next_next_day = next_day+one_day\n",
    "next_next_day"
   ]
  },
  {
   "cell_type": "code",
   "execution_count": 85,
   "metadata": {
    "execution": {
     "iopub.execute_input": "2023-12-08T07:10:12.288726Z",
     "iopub.status.busy": "2023-12-08T07:10:12.288330Z",
     "iopub.status.idle": "2023-12-08T07:10:12.298496Z",
     "shell.execute_reply": "2023-12-08T07:10:12.297248Z",
     "shell.execute_reply.started": "2023-12-08T07:10:12.288696Z"
    }
   },
   "outputs": [
    {
     "data": {
      "text/plain": [
       "['2022-10-25',\n",
       " '2022-10-26',\n",
       " '2022-10-27',\n",
       " '2022-10-28',\n",
       " '2022-10-29',\n",
       " '2022-10-30',\n",
       " '2022-10-31',\n",
       " '2022-11-01',\n",
       " '2022-11-02',\n",
       " '2022-11-03',\n",
       " '2022-11-04',\n",
       " '2022-11-05',\n",
       " '2022-11-06',\n",
       " '2022-11-07',\n",
       " '2022-11-08',\n",
       " '2022-11-09',\n",
       " '2022-11-10',\n",
       " '2022-11-11',\n",
       " '2022-11-12',\n",
       " '2022-11-13',\n",
       " '2022-11-14',\n",
       " '2022-11-15',\n",
       " '2022-11-16',\n",
       " '2022-11-17',\n",
       " '2022-11-18',\n",
       " '2022-11-19',\n",
       " '2022-11-20',\n",
       " '2022-11-21',\n",
       " '2022-11-22',\n",
       " '2022-11-23']"
      ]
     },
     "execution_count": 85,
     "metadata": {},
     "output_type": "execute_result"
    }
   ],
   "source": [
    "future_dates = []\n",
    "days = 30\n",
    "today = datetime.date(2022,10,25)\n",
    "next_day = datetime.date(2022,10,25)\n",
    "one_day = datetime.timedelta(days=1)\n",
    "for i in range(days):\n",
    "    if(next_day>today):\n",
    "        today = next_day\n",
    "        \n",
    "    future_dates.append(today.strftime('%Y-%m-%d'))\n",
    "    next_day = today + one_day\n",
    "    \n",
    "future_dates"
   ]
  },
  {
   "cell_type": "code",
   "execution_count": 86,
   "metadata": {
    "execution": {
     "iopub.execute_input": "2023-12-08T07:10:13.133417Z",
     "iopub.status.busy": "2023-12-08T07:10:13.133029Z",
     "iopub.status.idle": "2023-12-08T07:10:13.141062Z",
     "shell.execute_reply": "2023-12-08T07:10:13.139774Z",
     "shell.execute_reply.started": "2023-12-08T07:10:13.133384Z"
    }
   },
   "outputs": [
    {
     "data": {
      "text/plain": [
       "(30, 30)"
      ]
     },
     "execution_count": 86,
     "metadata": {},
     "output_type": "execute_result"
    }
   ],
   "source": [
    "len(future_dates), len(lst_output)"
   ]
  },
  {
   "cell_type": "code",
   "execution_count": 87,
   "metadata": {
    "execution": {
     "iopub.execute_input": "2023-12-08T07:10:14.322209Z",
     "iopub.status.busy": "2023-12-08T07:10:14.321776Z",
     "iopub.status.idle": "2023-12-08T07:10:14.336782Z",
     "shell.execute_reply": "2023-12-08T07:10:14.335617Z",
     "shell.execute_reply.started": "2023-12-08T07:10:14.322172Z"
    }
   },
   "outputs": [
    {
     "data": {
      "text/html": [
       "<div>\n",
       "<style scoped>\n",
       "    .dataframe tbody tr th:only-of-type {\n",
       "        vertical-align: middle;\n",
       "    }\n",
       "\n",
       "    .dataframe tbody tr th {\n",
       "        vertical-align: top;\n",
       "    }\n",
       "\n",
       "    .dataframe thead th {\n",
       "        text-align: right;\n",
       "    }\n",
       "</style>\n",
       "<table border=\"1\" class=\"dataframe\">\n",
       "  <thead>\n",
       "    <tr style=\"text-align: right;\">\n",
       "      <th></th>\n",
       "      <th>Date</th>\n",
       "      <th>Close</th>\n",
       "    </tr>\n",
       "  </thead>\n",
       "  <tbody>\n",
       "    <tr>\n",
       "      <th>0</th>\n",
       "      <td>2022-10-25</td>\n",
       "      <td>2963.138643</td>\n",
       "    </tr>\n",
       "    <tr>\n",
       "      <th>1</th>\n",
       "      <td>2022-10-26</td>\n",
       "      <td>2742.350562</td>\n",
       "    </tr>\n",
       "    <tr>\n",
       "      <th>2</th>\n",
       "      <td>2022-10-27</td>\n",
       "      <td>2562.033580</td>\n",
       "    </tr>\n",
       "    <tr>\n",
       "      <th>3</th>\n",
       "      <td>2022-10-28</td>\n",
       "      <td>2427.962030</td>\n",
       "    </tr>\n",
       "    <tr>\n",
       "      <th>4</th>\n",
       "      <td>2022-10-29</td>\n",
       "      <td>2341.244335</td>\n",
       "    </tr>\n",
       "    <tr>\n",
       "      <th>5</th>\n",
       "      <td>2022-10-30</td>\n",
       "      <td>2281.816368</td>\n",
       "    </tr>\n",
       "    <tr>\n",
       "      <th>6</th>\n",
       "      <td>2022-10-31</td>\n",
       "      <td>2232.969087</td>\n",
       "    </tr>\n",
       "    <tr>\n",
       "      <th>7</th>\n",
       "      <td>2022-11-01</td>\n",
       "      <td>2185.073247</td>\n",
       "    </tr>\n",
       "    <tr>\n",
       "      <th>8</th>\n",
       "      <td>2022-11-02</td>\n",
       "      <td>2135.391911</td>\n",
       "    </tr>\n",
       "    <tr>\n",
       "      <th>9</th>\n",
       "      <td>2022-11-03</td>\n",
       "      <td>2085.399173</td>\n",
       "    </tr>\n",
       "    <tr>\n",
       "      <th>10</th>\n",
       "      <td>2022-11-04</td>\n",
       "      <td>2038.120315</td>\n",
       "    </tr>\n",
       "    <tr>\n",
       "      <th>11</th>\n",
       "      <td>2022-11-05</td>\n",
       "      <td>1996.294722</td>\n",
       "    </tr>\n",
       "    <tr>\n",
       "      <th>12</th>\n",
       "      <td>2022-11-06</td>\n",
       "      <td>1961.514456</td>\n",
       "    </tr>\n",
       "    <tr>\n",
       "      <th>13</th>\n",
       "      <td>2022-11-07</td>\n",
       "      <td>1934.108505</td>\n",
       "    </tr>\n",
       "    <tr>\n",
       "      <th>14</th>\n",
       "      <td>2022-11-08</td>\n",
       "      <td>1913.436480</td>\n",
       "    </tr>\n",
       "    <tr>\n",
       "      <th>15</th>\n",
       "      <td>2022-11-09</td>\n",
       "      <td>1898.307623</td>\n",
       "    </tr>\n",
       "    <tr>\n",
       "      <th>16</th>\n",
       "      <td>2022-11-10</td>\n",
       "      <td>1887.352416</td>\n",
       "    </tr>\n",
       "    <tr>\n",
       "      <th>17</th>\n",
       "      <td>2022-11-11</td>\n",
       "      <td>1879.275408</td>\n",
       "    </tr>\n",
       "    <tr>\n",
       "      <th>18</th>\n",
       "      <td>2022-11-12</td>\n",
       "      <td>1872.978191</td>\n",
       "    </tr>\n",
       "    <tr>\n",
       "      <th>19</th>\n",
       "      <td>2022-11-13</td>\n",
       "      <td>1867.596780</td>\n",
       "    </tr>\n",
       "    <tr>\n",
       "      <th>20</th>\n",
       "      <td>2022-11-14</td>\n",
       "      <td>1862.476811</td>\n",
       "    </tr>\n",
       "    <tr>\n",
       "      <th>21</th>\n",
       "      <td>2022-11-15</td>\n",
       "      <td>1857.129638</td>\n",
       "    </tr>\n",
       "    <tr>\n",
       "      <th>22</th>\n",
       "      <td>2022-11-16</td>\n",
       "      <td>1851.182603</td>\n",
       "    </tr>\n",
       "    <tr>\n",
       "      <th>23</th>\n",
       "      <td>2022-11-17</td>\n",
       "      <td>1844.348059</td>\n",
       "    </tr>\n",
       "    <tr>\n",
       "      <th>24</th>\n",
       "      <td>2022-11-18</td>\n",
       "      <td>1836.398454</td>\n",
       "    </tr>\n",
       "    <tr>\n",
       "      <th>25</th>\n",
       "      <td>2022-11-19</td>\n",
       "      <td>1827.163179</td>\n",
       "    </tr>\n",
       "    <tr>\n",
       "      <th>26</th>\n",
       "      <td>2022-11-20</td>\n",
       "      <td>1816.523683</td>\n",
       "    </tr>\n",
       "    <tr>\n",
       "      <th>27</th>\n",
       "      <td>2022-11-21</td>\n",
       "      <td>1804.417547</td>\n",
       "    </tr>\n",
       "    <tr>\n",
       "      <th>28</th>\n",
       "      <td>2022-11-22</td>\n",
       "      <td>1790.838014</td>\n",
       "    </tr>\n",
       "    <tr>\n",
       "      <th>29</th>\n",
       "      <td>2022-11-23</td>\n",
       "      <td>1775.832134</td>\n",
       "    </tr>\n",
       "  </tbody>\n",
       "</table>\n",
       "</div>"
      ],
      "text/plain": [
       "          Date        Close\n",
       "0   2022-10-25  2963.138643\n",
       "1   2022-10-26  2742.350562\n",
       "2   2022-10-27  2562.033580\n",
       "3   2022-10-28  2427.962030\n",
       "4   2022-10-29  2341.244335\n",
       "5   2022-10-30  2281.816368\n",
       "6   2022-10-31  2232.969087\n",
       "7   2022-11-01  2185.073247\n",
       "8   2022-11-02  2135.391911\n",
       "9   2022-11-03  2085.399173\n",
       "10  2022-11-04  2038.120315\n",
       "11  2022-11-05  1996.294722\n",
       "12  2022-11-06  1961.514456\n",
       "13  2022-11-07  1934.108505\n",
       "14  2022-11-08  1913.436480\n",
       "15  2022-11-09  1898.307623\n",
       "16  2022-11-10  1887.352416\n",
       "17  2022-11-11  1879.275408\n",
       "18  2022-11-12  1872.978191\n",
       "19  2022-11-13  1867.596780\n",
       "20  2022-11-14  1862.476811\n",
       "21  2022-11-15  1857.129638\n",
       "22  2022-11-16  1851.182603\n",
       "23  2022-11-17  1844.348059\n",
       "24  2022-11-18  1836.398454\n",
       "25  2022-11-19  1827.163179\n",
       "26  2022-11-20  1816.523683\n",
       "27  2022-11-21  1804.417547\n",
       "28  2022-11-22  1790.838014\n",
       "29  2022-11-23  1775.832134"
      ]
     },
     "execution_count": 87,
     "metadata": {},
     "output_type": "execute_result"
    }
   ],
   "source": [
    "future_df = pd.DataFrame(list(zip(future_dates, scaler.inverse_transform(lst_output).reshape(30,))), columns=['Date', 'Close'])\n",
    "future_df"
   ]
  },
  {
   "cell_type": "code",
   "execution_count": 57,
   "metadata": {
    "execution": {
     "iopub.execute_input": "2023-12-08T06:48:49.545992Z",
     "iopub.status.busy": "2023-12-08T06:48:49.545616Z",
     "iopub.status.idle": "2023-12-08T06:48:49.552756Z",
     "shell.execute_reply": "2023-12-08T06:48:49.551672Z",
     "shell.execute_reply.started": "2023-12-08T06:48:49.545963Z"
    }
   },
   "outputs": [
    {
     "data": {
      "text/plain": [
       "4486"
      ]
     },
     "execution_count": 57,
     "metadata": {},
     "output_type": "execute_result"
    }
   ],
   "source": [
    "len(df1)"
   ]
  },
  {
   "cell_type": "code",
   "execution_count": 47,
   "metadata": {
    "execution": {
     "iopub.execute_input": "2023-12-08T06:33:15.197397Z",
     "iopub.status.busy": "2023-12-08T06:33:15.196792Z",
     "iopub.status.idle": "2023-12-08T06:33:15.215278Z",
     "shell.execute_reply": "2023-12-08T06:33:15.214111Z",
     "shell.execute_reply.started": "2023-12-08T06:33:15.197358Z"
    }
   },
   "outputs": [
    {
     "data": {
      "text/plain": [
       "4286"
      ]
     },
     "execution_count": 47,
     "metadata": {},
     "output_type": "execute_result"
    }
   ],
   "source": [
    "second_temp = len(df1) - time_step\n",
    "second_temp"
   ]
  },
  {
   "cell_type": "code",
   "execution_count": 48,
   "metadata": {
    "execution": {
     "iopub.execute_input": "2023-12-08T06:33:15.217061Z",
     "iopub.status.busy": "2023-12-08T06:33:15.216684Z",
     "iopub.status.idle": "2023-12-08T06:33:15.399499Z",
     "shell.execute_reply": "2023-12-08T06:33:15.398220Z",
     "shell.execute_reply.started": "2023-12-08T06:33:15.216997Z"
    }
   },
   "outputs": [
    {
     "data": {
      "image/png": "[encoded data removed]",
      "text/plain": [
       "<Figure size 640x480 with 1 Axes>"
      ]
     },
     "metadata": {},
     "output_type": "display_data"
    }
   ],
   "source": [
    "plt.plot(day_new,scaler.inverse_transform(df1[second_temp:]))\n",
    "plt.plot(day_pred,scaler.inverse_transform(lst_output))\n",
    "plt.show()"
   ]
  },
  {
   "cell_type": "code",
   "execution_count": 49,
   "metadata": {
    "execution": {
     "iopub.execute_input": "2023-12-08T06:33:15.401406Z",
     "iopub.status.busy": "2023-12-08T06:33:15.400957Z",
     "iopub.status.idle": "2023-12-08T06:33:15.620154Z",
     "shell.execute_reply": "2023-12-08T06:33:15.618834Z",
     "shell.execute_reply.started": "2023-12-08T06:33:15.401364Z"
    }
   },
   "outputs": [
    {
     "data": {
      "image/png": "[encoded data removed]",
      "text/plain": [
       "<Figure size 640x480 with 1 Axes>"
      ]
     },
     "metadata": {},
     "output_type": "display_data"
    }
   ],
   "source": [
    "df3=df1.tolist()\n",
    "df3.extend(lst_output)\n",
    "plt.plot(df3[second_temp:])\n",
    "plt.show()"
   ]
  },
  {
   "cell_type": "code",
   "execution_count": 50,
   "metadata": {
    "execution": {
     "iopub.execute_input": "2023-12-08T06:33:15.622109Z",
     "iopub.status.busy": "2023-12-08T06:33:15.621663Z",
     "iopub.status.idle": "2023-12-08T06:33:15.633152Z",
     "shell.execute_reply": "2023-12-08T06:33:15.631739Z",
     "shell.execute_reply.started": "2023-12-08T06:33:15.622070Z"
    }
   },
   "outputs": [],
   "source": [
    "df3=scaler.inverse_transform(df3).tolist()"
   ]
  },
  {
   "cell_type": "code",
   "execution_count": 51,
   "metadata": {
    "execution": {
     "iopub.execute_input": "2023-12-08T06:33:15.634997Z",
     "iopub.status.busy": "2023-12-08T06:33:15.634663Z",
     "iopub.status.idle": "2023-12-08T06:33:15.869221Z",
     "shell.execute_reply": "2023-12-08T06:33:15.868237Z",
     "shell.execute_reply.started": "2023-12-08T06:33:15.634962Z"
    }
   },
   "outputs": [
    {
     "data": {
      "image/png": "[encoded data removed]",
      "text/plain": [
       "<Figure size 640x480 with 1 Axes>"
      ]
     },
     "metadata": {},
     "output_type": "display_data"
    }
   ],
   "source": [
    "plt.plot(df3)\n",
    "plt.show()"
   ]
  },
  {
   "cell_type": "code",
   "execution_count": null,
   "metadata": {},
   "outputs": [],
   "source": []
  }
 ],
 "metadata": {
  "kaggle": {
   "accelerator": "none",
   "dataSources": [
    {
     "datasetId": 2577513,
     "sourceId": 4391862,
     "sourceType": "datasetVersion"
    }
   ],
   "dockerImageVersionId": 30587,
   "isGpuEnabled": false,
   "isInternetEnabled": true,
   "language": "python",
   "sourceType": "notebook"
  },
  "kernelspec": {
   "display_name": "Python 3 (ipykernel)",
   "language": "python",
   "name": "python3"
  },
  "language_info": {
   "codemirror_mode": {
    "name": "ipython",
    "version": 3
   },
   "file_extension": ".py",
   "mimetype": "text/x-python",
   "name": "python",
   "nbconvert_exporter": "python",
   "pygments_lexer": "ipython3",
   "version": "3.11.5"
  }
 },
 "nbformat": 4,
 "nbformat_minor": 4
}
